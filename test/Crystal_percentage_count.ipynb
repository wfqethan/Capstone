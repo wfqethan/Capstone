{
 "cells": [
  {
   "cell_type": "code",
   "execution_count": 1,
   "metadata": {
    "collapsed": true
   },
   "outputs": [],
   "source": [
    "import math\n",
    "import timeit\n",
    "import numpy as np\n",
    "import matplotlib.pyplot as plt\n",
    "%matplotlib inline"
   ]
  },
  {
   "cell_type": "code",
   "execution_count": 13,
   "metadata": {
    "collapsed": true
   },
   "outputs": [],
   "source": [
    "def percentage_count(samplename):\n",
    "    result = np.loadtxt('../Data/AFM/AggregatedData/ClassifyTest2/%s.txt'%(samplename + 'result'))\n",
    "    \n",
    "    crystal_count = 0\n",
    "    for i in range(len(result)):\n",
    "        if result[i] > 0:\n",
    "            crystal_count += 1\n",
    "        else:\n",
    "            continue\n",
    "    percentage = crystal_count / len(result)\n",
    "    print(crystal_count)\n",
    "    print(percentage)\n",
    "    return crystal_count"
   ]
  },
  {
   "cell_type": "code",
   "execution_count": 14,
   "metadata": {
    "collapsed": false
   },
   "outputs": [
    {
     "name": "stdout",
     "output_type": "stream",
     "text": [
      "8\n",
      "1.3563368055555555e-05\n"
     ]
    }
   ],
   "source": [
    "test = percentage_count('10-10')\n",
    "# count how many \"1\"s appeared out of all pixel cassification and the percentage of crystal pixel identified"
   ]
  },
  {
   "cell_type": "code",
   "execution_count": null,
   "metadata": {
    "collapsed": false
   },
   "outputs": [],
   "source": []
  },
  {
   "cell_type": "code",
   "execution_count": null,
   "metadata": {
    "collapsed": true
   },
   "outputs": [],
   "source": []
  }
 ],
 "metadata": {
  "anaconda-cloud": {},
  "kernelspec": {
   "display_name": "Python [default]",
   "language": "python",
   "name": "python3"
  },
  "language_info": {
   "codemirror_mode": {
    "name": "ipython",
    "version": 3
   },
   "file_extension": ".py",
   "mimetype": "text/x-python",
   "name": "python",
   "nbconvert_exporter": "python",
   "pygments_lexer": "ipython3",
   "version": "3.5.2"
  }
 },
 "nbformat": 4,
 "nbformat_minor": 2
}
