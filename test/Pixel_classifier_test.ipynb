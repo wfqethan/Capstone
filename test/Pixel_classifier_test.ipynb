{
 "cells": [
  {
   "cell_type": "code",
   "execution_count": 1,
   "metadata": {
    "collapsed": true
   },
   "outputs": [],
   "source": [
    "import math\n",
    "import timeit\n",
    "import numpy as np\n",
    "import matplotlib.pyplot as plt\n",
    "%matplotlib inline"
   ]
  },
  {
   "cell_type": "code",
   "execution_count": 6,
   "metadata": {
    "collapsed": true
   },
   "outputs": [],
   "source": [
    "def self_classify(samplename):\n",
    "    scan = np.loadtxt('../Data/AFM/AggregatedData/%s.txt'% (samplename))\n",
    "\n",
    "    m, n = scan.shape\n",
    "    x = y = int(math.sqrt(m))\n",
    "    scan = scan.reshape((x, y, n))\n",
    "    pixel_identities = np.empty((x, y))\n",
    "    \n",
    "    for i in range(x):\n",
    "        for j in range(y):\n",
    "            pixel_identities[i, j] = pixel_classify2(scan[i, j])\n",
    "            \n",
    "    \n",
    "    if n == 5:\n",
    "        scan = scan.reshape((m, n))\n",
    "        pixel_identities_1d = pixel_identities.reshape((m, 1))\n",
    "        \n",
    "        scan_and_classif = np.append(scan, pixel_identities_1d, axis = 1)\n",
    "        np.savetxt('../Data/AFM/AggregatedData/ClassifyTest2/%s.txt'%(samplename), scan_and_classif) \n",
    "\n",
    "    else:\n",
    "        for i in range(x):\n",
    "            for j in range(y):\n",
    "                scan[i, j, 5] = pixel_identities[i, j]\n",
    "        scan = scan.reshape((x2, n))\n",
    "        np.savetxt('../Data/AFM/AggregatedData/ClassifyTest2/%s.txt'%(samplename), scan)\n",
    "            \n",
    "    return pixel_identities"
   ]
  },
  {
   "cell_type": "code",
   "execution_count": 7,
   "metadata": {
    "collapsed": false
   },
   "outputs": [],
   "source": [
    "def pixel_classify2(pixel):\n",
    "    # simplified version of pixel classification based on attributes cut\n",
    "    adh_cut = 0.033 #greater than 33 mV\n",
    "    def_cut = 2.6e-9 #less than 2.6 nm; equivalent to larger than -2.6 nm\n",
    "    dis_cut = 0.033 #greater than 33 mV\n",
    "    mod_cut = -0.03 #greater than -0.03 V\n",
    "    stif_cut = 0.01 #greater than 0.01 V\n",
    "    cuts = [adh_cut, def_cut, dis_cut, mod_cut, stif_cut]\n",
    "    \n",
    "    classified_pixel = 0\n",
    "    crystalline_count = 0\n",
    "    \n",
    "    pixel = pixel * np.array([1, -1, 1, 1, 1])\n",
    "    \n",
    "    for i in range(5):\n",
    "        if pixel[i] >= cuts[i]:\n",
    "            crystalline_count += 1\n",
    "            \n",
    "    if crystalline_count >= 3:\n",
    "        classified_pixel = 1\n",
    "    else:\n",
    "        classified_pixel = -1\n",
    "    \n",
    "    return classified_pixel"
   ]
  },
  {
   "cell_type": "code",
   "execution_count": 38,
   "metadata": {
    "collapsed": true
   },
   "outputs": [],
   "source": [
    "def pixel_classify(pixel):\n",
    "    adh_cut = 0.033 #greater than 33 mV\n",
    "    def_cut = 0.0000000026 #less than 2.6 nm\n",
    "    dis_cut = 0.033 #greater than 33 mV\n",
    "    mod_cut = -0.03 #greater than -0.03 V\n",
    "    stif_cut = 0.01 #greater than 0.01 V \n",
    "    \n",
    "    classified_pixel = 0\n",
    "    crystalline_count = 0\n",
    "\n",
    "    if pixel[0] >= adh_cut:\n",
    "        crystalline_count += 1\n",
    "    else:\n",
    "        pass\n",
    "\n",
    "    if pixel[1] <= def_cut:\n",
    "        crystalline_count += 1\n",
    "    else:\n",
    "        pass\n",
    "\n",
    "    if pixel[2] >= dis_cut:\n",
    "        crystalline_count += 1\n",
    "    else:\n",
    "        pass\n",
    "\n",
    "    if pixel[3] >= mod_cut:\n",
    "        crystalline_count += 1\n",
    "    else:\n",
    "        pass\n",
    "\n",
    "    if pixel[4] >= stif_cut:\n",
    "        crystalline_count += 1\n",
    "    else:\n",
    "        pass\n",
    "\n",
    "    if crystalline_count >= 3:\n",
    "        classified_pixel = 1\n",
    "    else:\n",
    "        classified_pixel = -1\n",
    "    \n",
    "    return classified_pixel"
   ]
  },
  {
   "cell_type": "code",
   "execution_count": 11,
   "metadata": {
    "collapsed": false
   },
   "outputs": [],
   "source": [
    "test = self_classify('10-10')"
   ]
  },
  {
   "cell_type": "code",
   "execution_count": 12,
   "metadata": {
    "collapsed": false
   },
   "outputs": [],
   "source": [
    "samplename = '10-10'\n",
    "scan = np.loadtxt('../Data/AFM/AggregatedData/%s.txt'% (samplename))\n",
    "m, n = scan.shape\n",
    "x = y = int(math.sqrt(m))\n",
    "scan = scan.reshape((x, y, n))"
   ]
  },
  {
   "cell_type": "code",
   "execution_count": 13,
   "metadata": {
    "collapsed": false
   },
   "outputs": [
    {
     "name": "stdout",
     "output_type": "stream",
     "text": [
      "-1\n"
     ]
    }
   ],
   "source": [
    "test1 = pixel_classify2(scan[1, 3])\n",
    "\n",
    "print(test1)"
   ]
  },
  {
   "cell_type": "code",
   "execution_count": 43,
   "metadata": {
    "collapsed": false
   },
   "outputs": [
    {
     "name": "stdout",
     "output_type": "stream",
     "text": [
      "The slowest run took 8.08 times longer than the fastest. This could mean that an intermediate result is being cached.\n",
      "100000 loops, best of 3: 2.28 µs per loop\n"
     ]
    }
   ],
   "source": [
    "%timeit for x in range(1): pixel_classify(scan[1, x])"
   ]
  },
  {
   "cell_type": "code",
   "execution_count": 14,
   "metadata": {
    "collapsed": false
   },
   "outputs": [
    {
     "name": "stdout",
     "output_type": "stream",
     "text": [
      "The slowest run took 7.25 times longer than the fastest. This could mean that an intermediate result is being cached.\n",
      "100000 loops, best of 3: 10.1 µs per loop\n"
     ]
    }
   ],
   "source": [
    "# pixel_classify2 tun time\n",
    "%timeit for x in range(1): pixel_classify2(scan[1, x])"
   ]
  },
  {
   "cell_type": "code",
   "execution_count": null,
   "metadata": {
    "collapsed": true
   },
   "outputs": [],
   "source": []
  }
 ],
 "metadata": {
  "anaconda-cloud": {},
  "kernelspec": {
   "display_name": "Python [default]",
   "language": "python",
   "name": "python3"
  },
  "language_info": {
   "codemirror_mode": {
    "name": "ipython",
    "version": 3
   },
   "file_extension": ".py",
   "mimetype": "text/x-python",
   "name": "python",
   "nbconvert_exporter": "python",
   "pygments_lexer": "ipython3",
   "version": "3.5.2"
  }
 },
 "nbformat": 4,
 "nbformat_minor": 2
}
