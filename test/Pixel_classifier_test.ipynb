{
 "cells": [
  {
   "cell_type": "code",
   "execution_count": 36,
   "metadata": {
    "collapsed": true
   },
   "outputs": [],
   "source": [
    "import math\n",
    "import timeit\n",
    "import numpy as np\n",
    "import matplotlib.pyplot as plt\n",
    "%matplotlib inline"
   ]
  },
  {
   "cell_type": "code",
   "execution_count": 37,
   "metadata": {
    "collapsed": true
   },
   "outputs": [],
   "source": [
    "def self_classify(samplename):\n",
    "    scan = np.loadtxt('../Data/AFM/AggregatedData/%s.txt'% (samplename))\n",
    "    \n",
    "    #x2, z = scan.shape\n",
    "    m, n = scan.shape\n",
    "    x = y = int(math.sqrt(m))\n",
    "    scan = scan.reshape((x, y, n))\n",
    "    pixel_identities = np.empty((x, y))\n",
    "    \n",
    "    for i in range(x):\n",
    "        for j in range(y):\n",
    "            pixel_identities[i, j] = pixel_classify(scan[i, j])\n",
    "            \n",
    "    \n",
    "    if n == 5:\n",
    "        scan = scan.reshape((m, n))\n",
    "        pixel_identities_1d = pixel_identities.reshape((m, 1))\n",
    "        \n",
    "        scan_and_classif = np.append(scan, pixel_identities_1d, axis = 1)\n",
    "        np.savetxt('../Data/AFM/AggregatedData/ClassifyTest2/%s.txt'%(samplename), scan_and_classif) \n",
    "\n",
    "    else:\n",
    "        for i in range(x):\n",
    "            for j in range(y):\n",
    "                scan[i, j, 5] = pixel_identities[i, j]\n",
    "        scan = scan.reshape((x2, n))\n",
    "        np.savetxt('../Data/AFM/AggregatedData/ClassifyTest2/%s.txt'%(samplename), scan)\n",
    "            \n",
    "    return pixel_identities"
   ]
  },
  {
   "cell_type": "code",
   "execution_count": 38,
   "metadata": {
    "collapsed": true
   },
   "outputs": [],
   "source": [
    "def pixel_classify(pixel):\n",
    "    adh_cut = 0.033 #greater than 33 mV\n",
    "    def_cut = 0.0000000026 #less than 2.6 nm\n",
    "    dis_cut = 0.033 #greater than 33 mV\n",
    "    mod_cut = -0.03 #greater than -0.03 V\n",
    "    stif_cut = 0.01 #greater than 0.01 V \n",
    "    \n",
    "    classified_pixel = 0\n",
    "    crystalline_count = 0\n",
    "\n",
    "    if pixel[0] >= adh_cut:\n",
    "        crystalline_count += 1\n",
    "    else:\n",
    "        pass\n",
    "\n",
    "    if pixel[1] <= def_cut:\n",
    "        crystalline_count += 1\n",
    "    else:\n",
    "        pass\n",
    "\n",
    "    if pixel[2] >= dis_cut:\n",
    "        crystalline_count += 1\n",
    "    else:\n",
    "        pass\n",
    "\n",
    "    if pixel[3] >= mod_cut:\n",
    "        crystalline_count += 1\n",
    "    else:\n",
    "        pass\n",
    "\n",
    "    if pixel[4] >= stif_cut:\n",
    "        crystalline_count += 1\n",
    "    else:\n",
    "        pass\n",
    "\n",
    "    if crystalline_count >= 3:\n",
    "        classified_pixel = 1\n",
    "    else:\n",
    "        classified_pixel = -1\n",
    "    \n",
    "    return classified_pixel"
   ]
  },
  {
   "cell_type": "code",
   "execution_count": 39,
   "metadata": {
    "collapsed": false
   },
   "outputs": [],
   "source": [
    "test = self_classify('10-10')"
   ]
  },
  {
   "cell_type": "code",
   "execution_count": 40,
   "metadata": {
    "collapsed": false
   },
   "outputs": [],
   "source": [
    "samplename = '10-10'\n",
    "scan = np.loadtxt('../Data/AFM/AggregatedData/%s.txt'% (samplename))\n",
    "m, n = scan.shape\n",
    "x = y = int(math.sqrt(m))\n",
    "scan = scan.reshape((x, y, n))"
   ]
  },
  {
   "cell_type": "code",
   "execution_count": 41,
   "metadata": {
    "collapsed": false
   },
   "outputs": [
    {
     "name": "stdout",
     "output_type": "stream",
     "text": [
      "1\n"
     ]
    }
   ],
   "source": [
    "test1 = pixel_classify(scan[1, 3])\n",
    "\n",
    "print(test1)"
   ]
  },
  {
   "cell_type": "code",
   "execution_count": 43,
   "metadata": {
    "collapsed": false
   },
   "outputs": [
    {
     "name": "stdout",
     "output_type": "stream",
     "text": [
      "The slowest run took 8.08 times longer than the fastest. This could mean that an intermediate result is being cached.\n",
      "100000 loops, best of 3: 2.28 µs per loop\n"
     ]
    }
   ],
   "source": [
    "%timeit for x in range(1): pixel_classify(scan[1, x])"
   ]
  },
  {
   "cell_type": "code",
   "execution_count": null,
   "metadata": {
    "collapsed": true
   },
   "outputs": [],
   "source": []
  }
 ],
 "metadata": {
  "anaconda-cloud": {},
  "kernelspec": {
   "display_name": "Python [default]",
   "language": "python",
   "name": "python3"
  },
  "language_info": {
   "codemirror_mode": {
    "name": "ipython",
    "version": 3
   },
   "file_extension": ".py",
   "mimetype": "text/x-python",
   "name": "python",
   "nbconvert_exporter": "python",
   "pygments_lexer": "ipython3",
   "version": "3.5.2"
  }
 },
 "nbformat": 4,
 "nbformat_minor": 2
}
