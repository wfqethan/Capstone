{
 "cells": [
  {
   "cell_type": "code",
   "execution_count": 1,
   "metadata": {
    "collapsed": true
   },
   "outputs": [],
   "source": [
    "from sklearn.cluster import KMeans\n",
    "import numpy as np"
   ]
  },
  {
   "cell_type": "code",
   "execution_count": 2,
   "metadata": {
    "collapsed": true
   },
   "outputs": [],
   "source": [
    "import math\n",
    "import timeit\n",
    "import numpy as np\n",
    "import matplotlib.pyplot as plt\n",
    "%matplotlib inline"
   ]
  },
  {
   "cell_type": "code",
   "execution_count": 3,
   "metadata": {
    "collapsed": true
   },
   "outputs": [],
   "source": [
    "def cluster_classify(samplename):\n",
    "    # first load sample data and reshape\n",
    "    scan = np.loadtxt('../Data/AFM/AggregatedData/%s.txt'% (samplename))\n",
    "    m, n = scan.shape\n",
    "    #x = y = int(math.sqrt(m))\n",
    "    #scan = scan.reshape((x, y, n))\n",
    "    \n",
    "    kmeans = KMeans(n_clusters=2, random_state=0).fit(scan)\n",
    "    \n",
    "    np.savetxt('../Data/AFM/AggregatedData/ClassifyTest2/%s.txt'%(samplename + 'cluster'), kmeans)\n",
    "    \n",
    "    return kmeans"
   ]
  },
  {
   "cell_type": "code",
   "execution_count": 4,
   "metadata": {
    "collapsed": false
   },
   "outputs": [],
   "source": [
    "# first load sample data and reshape\n",
    "scan = np.loadtxt('../Data/AFM/AggregatedData/%s.txt'% ('10-10'))\n",
    "m, n = scan.shape\n",
    "#x = y = int(math.sqrt(m))\n",
    "#scan = scan.reshape((x, y, n))\n",
    "    \n",
    "kmeans = KMeans(n_clusters=2, random_state=0).fit(scan)"
   ]
  },
  {
   "cell_type": "code",
   "execution_count": 5,
   "metadata": {
    "collapsed": false
   },
   "outputs": [
    {
     "name": "stdout",
     "output_type": "stream",
     "text": [
      "KMeans(algorithm='auto', copy_x=True, init='k-means++', max_iter=300,\n",
      "    n_clusters=2, n_init=10, n_jobs=1, precompute_distances='auto',\n",
      "    random_state=0, tol=0.0001, verbose=0)\n"
     ]
    }
   ],
   "source": [
    "print(kmeans)"
   ]
  },
  {
   "cell_type": "raw",
   "metadata": {},
   "source": [
    "print(scan.shape)"
   ]
  },
  {
   "cell_type": "code",
   "execution_count": 6,
   "metadata": {
    "collapsed": false
   },
   "outputs": [
    {
     "name": "stdout",
     "output_type": "stream",
     "text": [
      "(589824, 5)\n"
     ]
    }
   ],
   "source": [
    "print(scan.shape)"
   ]
  },
  {
   "cell_type": "code",
   "execution_count": 8,
   "metadata": {
    "collapsed": false
   },
   "outputs": [],
   "source": [
    "result = kmeans.predict(scan)\n",
    "np.savetxt('../Data/AFM/AggregatedData/ClassifyTest2/%s.txt'%('10-10cluster'), result)"
   ]
  },
  {
   "cell_type": "code",
   "execution_count": 9,
   "metadata": {
    "collapsed": false
   },
   "outputs": [
    {
     "name": "stdout",
     "output_type": "stream",
     "text": [
      "[1 0 0 0 1 1 0 1 0 0 0 0 0 1 1 1 0 0 1 0 1 0 0 1 1 1 1 1 0 1 1 1 1 1 1 1 1\n",
      " 1 1 1 1 0 0 1 1 1 1 1 1 1 1 1 1 1 1 1 1 0 0 0 0 0 0 0 0 0 0 1 0 0 0 1 1 1\n",
      " 1 1 0 1 1 1 1 0 0 0 0 0 0 1 0 0 0 1 0 0 0 0 0 0 0 0 0 1 0 1 1 1 1 1 1 1 1\n",
      " 1 1 0 1 0 0 0 0 0 1 0 0 1 1 1 1 1 1 0 0 1 1 1 1 1 1 0 0 0 0 0 1 1 1 0 0 0\n",
      " 0 0 1 1 1 1 0 0 1 0 0 1 0 0 0 0 1 1 0 1 1 0 1 0 1 0 0 0 0 0 0 0 1 0 0 1 1\n",
      " 1 1 1 1 1 1 0 0 0 1 0 0 0 0 1 1 1 1 0 1 0 0 0 0 0 0 0 0 0 1 1 1 1 1 1 1 0\n",
      " 0 0 1 1 1 0 1 0 1 1 0 0 0 1 1 0 0 0 0 0 0 0 0 1 1 0 0 0 1 0 1 1 0 0 1 1 0\n",
      " 1 1 1 1 1 1 1 1 1 1 0 1 1 0 1 1 1 1 1 1 0 0 0 0 0 0 0 1 1 0 1 1 1 1 0 0 0\n",
      " 0 0 0 1 1 0 0 0 0 0 0 0 0 1 1 1 0 0 0 0 1 1 1 0 0 1 1 1 1 1 1 1 1 1 1 1 1\n",
      " 1 1 1 1 0 0 0 0 0 0 0 1 1 1 1 1 1 1 1 1 1 1 1 1 1 1 1 0 1 1 1 0 1 1 0 1 0\n",
      " 1 1 1 1 1 1 1 1 1 1 0 0 1 1 1 1 0 0 0 0 0 1 1 0 1 1 1 1 1 1 1 0 1 0 1 0 0\n",
      " 0 0 0 0 0 0 1 0 0 1 1 1 0 0 1 1 0 0 0 0 0 1 0 0 1 0 0 1 0 0 0 0 0 0 1 1 1\n",
      " 1 1 1 1 1 1 1 1 0 1 1 0 1 1 0 0 0 0 0 0 1 1 0 0 1 1 0 1 1 0 0 0 1 1 1 1 0\n",
      " 1 1 1 0 0 0 0 0 1 0 1 1 1 0 0 0 0 0 0 0 0 0 0 0 0 0 1 0 1 0 0 0 0 1 1 0 0\n",
      " 0 0 0 0 0 0 0 0 1 0 0 0 1 1 1 1 0 0 1 1 1 1 1 0 0 1 1 1 1 1 1 1 1 1 1 0 0\n",
      " 0 0 0 1 1 0 0 0 0 0 0 0 0 0 0 0 0 0 0 0 0 0 1 0 0 0 0 0 0 0 0 0 0 1 1 1 1\n",
      " 1 1 0 0 0 0 1 1 0 0 0 0 0 0 0 0 1 0 0 0 0 0 0 0 1 1 0 0 0 1 0 0 0 0 0 0 0\n",
      " 1 1 1 1 1 1 0 1 1 1 1 1 0 0 1 0 1 1 1 1 1 1 1 1 1 1 1 1 0 0 0 1 1 1 0 1 1\n",
      " 1 1 1 1 0 0 1 1 1 1 1 1 1 1 1 1 0 1 1 1 1 1 1 1 1 0 0 1 1 1 1 0 1 1 1 1 0\n",
      " 0 1 0 1 1 1 0 1 0 1 1 0 0 0 1 1 0 0 0 0 0 0 1 0 0 0 0 1 1 1 1 1 0 1 1 1 1\n",
      " 1 0 1 1 0 0 0 0 0 0 0 0 0 0 0 0 0 0 0 1 1 1 1 0 0 0 1 0 0 0 0 1 1 1 0 0 0\n",
      " 0 0 1 0 1 0 0 0 0 0 0 0 0 0 1 1 1 1 1 1 0 0 0 0 1 1 0 0 0 1 1 0 1 1 1 1 0\n",
      " 0 1 1 0 0 0 0 0 0 0 1 1 1 1 1 0 0 0 1 1 0 0 0 0 1 1 1 1 1 1 0 0 0 0 0 0 0\n",
      " 0 1 0 1 1 0 0 1 1 1 1 1 0 0 0 0 1 1 0 1 1 0 0 0 1 1 1 1 1 1 1 1 1 1 1 1 0\n",
      " 0 1 1 1 1 0 0 1 1 1 0 0 0 0 0 1 1 1 1 1 1 0 0 1 0 1 1 1 1 0 0 0 0 1 1 1 1\n",
      " 0 0 1 1 0 0 0 1 1 1 1 0 0 1 1 0 0 0 0 0 1 0 0 0 0 0 1 0 1 0 1 0 1 1 1 1 1\n",
      " 1 0 1 1 0 0 1 1 1 1 1 1 1 1 0 1 0 1 1 1 0 1 1 1 1 1 0 0 0 0 0 0 0 0 0 0 0\n",
      " 1]\n"
     ]
    }
   ],
   "source": [
    "print(result[0:1000])"
   ]
  },
  {
   "cell_type": "code",
   "execution_count": 10,
   "metadata": {
    "collapsed": false
   },
   "outputs": [
    {
     "name": "stdout",
     "output_type": "stream",
     "text": [
      "589824\n"
     ]
    }
   ],
   "source": [
    "print(len(result))"
   ]
  },
  {
   "cell_type": "code",
   "execution_count": 11,
   "metadata": {
    "collapsed": false
   },
   "outputs": [
    {
     "name": "stdout",
     "output_type": "stream",
     "text": [
      "281265\n",
      "0.4768625895182292\n"
     ]
    }
   ],
   "source": [
    "# count the classification result matrix for 1's and 0's\n",
    "crystal_count = 0\n",
    "for i in range(len(result)):\n",
    "    if result[i] == 1:\n",
    "        crystal_count += 1\n",
    "    else:\n",
    "        continue\n",
    "print(crystal_count)\n",
    "print(crystal_count / len(result))"
   ]
  },
  {
   "cell_type": "code",
   "execution_count": 3,
   "metadata": {
    "collapsed": true
   },
   "outputs": [],
   "source": [
    "# try clustering with different k values\n",
    "# k = 4\n",
    "scan = np.loadtxt('../Data/AFM/AggregatedData/%s.txt'% ('10-10'))\n",
    "m, n = scan.shape\n",
    "    \n",
    "kmeans = KMeans(n_clusters=4, random_state=0).fit(scan)"
   ]
  },
  {
   "cell_type": "code",
   "execution_count": 4,
   "metadata": {
    "collapsed": true
   },
   "outputs": [],
   "source": [
    "result = kmeans.predict(scan)\n",
    "np.savetxt('../Data/AFM/AggregatedData/ClassifyTest2/%s.txt'%('10-10cluster-k=4'), result)"
   ]
  },
  {
   "cell_type": "code",
   "execution_count": 5,
   "metadata": {
    "collapsed": false
   },
   "outputs": [
    {
     "name": "stdout",
     "output_type": "stream",
     "text": [
      "[0 1 1 1 0 0 1 0 1 1 1 1 1 0 0 0 3 1 0 1 0 1 3 0 2 0 0 0 1 0 0 0 0 2 2 0 2\n",
      " 2 2 2 0 1 3 0 0 0 0 2 0 0 0 2 2 2 2 0 0 1 3 3 3 3 3 3 3 1 1 0 3 1 1 0 0 0\n",
      " 0 0 1 0 0 2 0 1 1 1 1 1 1 0 1 1 1 0 1 1 1 3 3 3 1 1 1 0 1 0 2 0 2 0 2 0 0\n",
      " 0 0 1 2 3 3 3 3 3 0 1 3 0 0 0 2 0 0 1 1 0 2 0 0 0 0 1 1 1 3 1 0 0 2 1 1 3\n",
      " 3 1 0 0 0 0 1 1 0 1 1 0 3 3 3 1 0 0 3 0 0 3 2 1 0 3 3 3 3 1 3 3 0 1 1 2 2\n",
      " 2 2 2 0 2 0 3 1 1 0 1 3 3 1 0 0 0 0 1 0 3 3 3 1 3 1 3 3 3 0 0 0 0 0 0 0 1\n",
      " 1 1 0 0 0 1 0 3 0 0 1 3 1 2 0 3 3 3 3 3 3 3 3 0 0 3 1 1 0 3 2 0 1 1 0 0 3\n",
      " 2 2 0 0 0 2 2 2 2 0 1 0 0 1 0 0 2 2 2 0 1 3 3 1 1 1 3 0 0 1 0 0 0 0 1 3 3\n",
      " 3 1 1 0 0 3 1 3 3 3 3 3 1 0 0 0 1 3 1 1 0 2 0 3 1 0 0 2 2 2 2 0 2 2 0 0 2\n",
      " 2 2 2 2 3 3 3 1 3 1 3 0 0 0 2 2 2 2 0 2 2 2 2 2 2 2 0 1 0 2 0 1 0 0 1 0 1\n",
      " 2 2 0 0 0 2 0 0 0 0 1 1 2 0 2 2 1 3 3 3 3 0 0 3 0 0 2 0 0 2 0 1 2 1 2 3 1\n",
      " 1 3 3 1 1 1 0 1 1 0 0 0 1 1 0 0 3 3 3 3 3 0 1 1 0 1 3 0 1 1 1 1 3 1 2 2 0\n",
      " 0 2 0 2 0 0 0 0 3 0 2 1 0 0 1 3 3 3 1 3 0 1 1 1 0 0 1 0 2 3 1 1 0 0 0 0 1\n",
      " 0 0 2 1 1 1 1 1 2 1 2 0 0 1 1 3 3 1 1 1 1 1 1 1 1 1 0 1 0 1 1 1 1 2 2 1 1\n",
      " 1 3 1 1 1 1 1 1 2 3 1 1 0 0 2 0 1 1 0 2 0 0 0 1 1 2 0 0 1 2 2 2 2 2 2 1 1\n",
      " 3 3 1 0 0 1 3 3 3 3 3 3 3 3 1 3 3 3 3 1 1 1 0 3 3 1 1 3 3 3 3 3 3 0 0 2 0\n",
      " 0 0 1 1 3 1 0 0 3 3 3 3 1 1 1 1 2 1 1 1 3 3 3 1 0 0 1 1 1 0 1 1 3 1 3 1 1\n",
      " 0 0 0 0 2 0 1 0 0 0 0 0 1 1 0 1 0 0 0 0 0 0 2 2 2 0 0 0 1 1 1 0 2 2 1 0 2\n",
      " 2 2 2 0 1 1 0 0 0 0 2 2 2 2 0 0 1 0 0 0 2 0 2 2 0 1 1 2 0 0 0 1 0 0 0 0 1\n",
      " 1 0 1 0 0 0 3 0 1 0 0 1 1 3 0 2 3 3 3 3 1 1 0 1 3 3 3 0 0 0 0 2 1 0 2 2 0\n",
      " 0 1 0 2 1 3 1 1 1 1 3 1 3 3 1 1 1 1 1 0 0 0 0 3 3 3 0 3 1 1 3 2 2 2 3 1 1\n",
      " 3 3 0 1 0 1 1 1 1 3 1 1 3 1 0 0 2 2 0 0 1 1 1 1 0 0 1 3 1 0 0 1 0 2 2 0 1\n",
      " 1 2 2 1 3 3 1 1 1 3 0 2 0 0 0 3 3 1 0 0 1 3 3 3 0 0 0 0 0 0 1 3 3 3 1 1 1\n",
      " 1 0 1 0 0 1 1 0 0 0 0 0 3 3 1 1 0 0 1 0 0 1 3 3 0 0 0 0 0 0 0 0 2 2 2 0 1\n",
      " 1 0 0 2 0 1 1 0 2 0 3 3 3 1 1 0 0 2 2 0 0 3 1 2 1 0 0 2 2 1 3 1 1 0 0 0 0\n",
      " 1 3 0 0 3 3 3 0 0 2 0 1 3 0 2 1 1 1 1 1 0 1 3 1 1 1 0 3 0 1 0 1 0 0 0 0 2\n",
      " 2 1 0 0 3 1 0 2 2 2 0 2 0 0 3 0 1 0 2 0 1 0 0 0 0 0 1 3 3 3 3 3 3 3 3 1 3\n",
      " 0]\n"
     ]
    }
   ],
   "source": [
    "print(result[0:1000])"
   ]
  },
  {
   "cell_type": "code",
   "execution_count": 8,
   "metadata": {
    "collapsed": false
   },
   "outputs": [
    {
     "name": "stdout",
     "output_type": "stream",
     "text": [
      "198268 209675 80160 101721\n"
     ]
    }
   ],
   "source": [
    "# count how many 0 1 2 3's there are respectively\n",
    "count0 = 0\n",
    "count1 = 0\n",
    "count2 = 0\n",
    "count3 = 0\n",
    "for i in range(len(result)):\n",
    "    if result[i] == 0:\n",
    "        count0 += 1;\n",
    "    elif result[i] == 1:\n",
    "        count1 += 1;\n",
    "    elif result[i] == 2:\n",
    "        count2 += 1;\n",
    "    elif result[i] == 3:\n",
    "        count3 += 1;\n",
    "print(count0, count1, count2, count3)"
   ]
  },
  {
   "cell_type": "code",
   "execution_count": 9,
   "metadata": {
    "collapsed": false
   },
   "outputs": [
    {
     "name": "stdout",
     "output_type": "stream",
     "text": [
      "0.3361477322048611 0.3554873996310764 0.13590494791666666 0.17245992024739584\n"
     ]
    }
   ],
   "source": [
    "print(count0/len(result), count1/len(result), count2/len(result), count3/len(result))"
   ]
  },
  {
   "cell_type": "code",
   "execution_count": null,
   "metadata": {
    "collapsed": true
   },
   "outputs": [],
   "source": []
  }
 ],
 "metadata": {
  "anaconda-cloud": {},
  "kernelspec": {
   "display_name": "Python [default]",
   "language": "python",
   "name": "python3"
  },
  "language_info": {
   "codemirror_mode": {
    "name": "ipython",
    "version": 3
   },
   "file_extension": ".py",
   "mimetype": "text/x-python",
   "name": "python",
   "nbconvert_exporter": "python",
   "pygments_lexer": "ipython3",
   "version": "3.5.2"
  }
 },
 "nbformat": 4,
 "nbformat_minor": 2
}
