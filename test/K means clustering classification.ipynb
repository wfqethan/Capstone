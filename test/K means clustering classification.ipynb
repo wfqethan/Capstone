{
 "cells": [
  {
   "cell_type": "code",
   "execution_count": 1,
   "metadata": {
    "collapsed": true
   },
   "outputs": [],
   "source": [
    "from sklearn.cluster import KMeans\n",
    "import numpy as np"
   ]
  },
  {
   "cell_type": "code",
   "execution_count": 2,
   "metadata": {
    "collapsed": true
   },
   "outputs": [],
   "source": [
    "import math\n",
    "import timeit\n",
    "import numpy as np\n",
    "import matplotlib.pyplot as plt\n",
    "%matplotlib inline"
   ]
  },
  {
   "cell_type": "code",
   "execution_count": 3,
   "metadata": {
    "collapsed": true
   },
   "outputs": [],
   "source": [
    "def cluster_classify(samplename):\n",
    "    # first load sample data and reshape\n",
    "    scan = np.loadtxt('../Data/AFM/AggregatedData/%s.txt'% (samplename))\n",
    "    m, n = scan.shape\n",
    "    #x = y = int(math.sqrt(m))\n",
    "    #scan = scan.reshape((x, y, n))\n",
    "    \n",
    "    kmeans = KMeans(n_clusters=2, random_state=0).fit(scan)\n",
    "    \n",
    "    np.savetxt('../Data/AFM/AggregatedData/ClassifyTest2/%s.txt'%(samplename + 'cluster'), kmeans)\n",
    "    \n",
    "    return kmeans"
   ]
  },
  {
   "cell_type": "code",
   "execution_count": 4,
   "metadata": {
    "collapsed": false
   },
   "outputs": [],
   "source": [
    "# first load sample data and reshape\n",
    "scan = np.loadtxt('../Data/AFM/AggregatedData/%s.txt'% ('10-10'))\n",
    "m, n = scan.shape\n",
    "#x = y = int(math.sqrt(m))\n",
    "#scan = scan.reshape((x, y, n))\n",
    "    \n",
    "kmeans = KMeans(n_clusters=2, random_state=0).fit(scan)"
   ]
  },
  {
   "cell_type": "code",
   "execution_count": 5,
   "metadata": {
    "collapsed": false
   },
   "outputs": [
    {
     "name": "stdout",
     "output_type": "stream",
     "text": [
      "KMeans(algorithm='auto', copy_x=True, init='k-means++', max_iter=300,\n",
      "    n_clusters=2, n_init=10, n_jobs=1, precompute_distances='auto',\n",
      "    random_state=0, tol=0.0001, verbose=0)\n"
     ]
    }
   ],
   "source": [
    "print(kmeans)"
   ]
  },
  {
   "cell_type": "code",
   "execution_count": null,
   "metadata": {
    "collapsed": false
   },
   "outputs": [],
   "source": [
    "centers = kmeans.cluster_centers_\n",
    "for i in range(le):\n",
    "    print(i+1,'\\t',centers[0,i],'\\t',centers[1,i],'\\t',centers[2,i],'\\t',centers[3,i])\n"
   ]
  },
  {
   "cell_type": "raw",
   "metadata": {},
   "source": [
    "centers = km.cluster_centers_"
   ]
  },
  {
   "cell_type": "code",
   "execution_count": 6,
   "metadata": {
    "collapsed": false
   },
   "outputs": [
    {
     "name": "stdout",
     "output_type": "stream",
     "text": [
      "(589824, 5)\n"
     ]
    }
   ],
   "source": [
    "print(scan.shape)"
   ]
  },
  {
   "cell_type": "code",
   "execution_count": 9,
   "metadata": {
    "collapsed": false
   },
   "outputs": [],
   "source": [
    "result = kmeans.predict(scan)\n",
    "np.savetxt('../Data/AFM/AggregatedData/ClassifyTest2/%s.txt'%('10-10cluster'), result)"
   ]
  },
  {
   "cell_type": "code",
   "execution_count": 17,
   "metadata": {
    "collapsed": false
   },
   "outputs": [
    {
     "name": "stdout",
     "output_type": "stream",
     "text": [
      "1 \t 6.92506480365e-05 \t 9.12322898615e-05\n",
      "2 \t 0.0 \t 3.9329967218e-11\n",
      "3 \t 0.0 \t 0.0\n",
      "4 \t 0.0212466159575 \t 0.0\n",
      "5 \t 0.0275060112637 \t 0.0\n"
     ]
    },
    {
     "ename": "IndexError",
     "evalue": "index 5 is out of bounds for axis 1 with size 5",
     "output_type": "error",
     "traceback": [
      "\u001b[0;31m---------------------------------------------------------------------------\u001b[0m",
      "\u001b[0;31mIndexError\u001b[0m                                Traceback (most recent call last)",
      "\u001b[0;32m<ipython-input-17-5dbb8cd3f5de>\u001b[0m in \u001b[0;36m<module>\u001b[0;34m()\u001b[0m\n\u001b[1;32m      3\u001b[0m \u001b[0mcenters\u001b[0m\u001b[0;34m[\u001b[0m\u001b[0mcenters\u001b[0m\u001b[0;34m<\u001b[0m\u001b[0;36m0\u001b[0m\u001b[0;34m]\u001b[0m \u001b[0;34m=\u001b[0m \u001b[0;36m0\u001b[0m\u001b[0;34m\u001b[0m\u001b[0m\n\u001b[1;32m      4\u001b[0m \u001b[0;32mfor\u001b[0m \u001b[0mi\u001b[0m \u001b[0;32min\u001b[0m \u001b[0mrange\u001b[0m\u001b[0;34m(\u001b[0m\u001b[0mlen\u001b[0m\u001b[0;34m(\u001b[0m\u001b[0mresult\u001b[0m\u001b[0;34m)\u001b[0m\u001b[0;34m)\u001b[0m\u001b[0;34m:\u001b[0m\u001b[0;34m\u001b[0m\u001b[0m\n\u001b[0;32m----> 5\u001b[0;31m     \u001b[0mprint\u001b[0m\u001b[0;34m(\u001b[0m\u001b[0mi\u001b[0m\u001b[0;34m+\u001b[0m\u001b[0;36m1\u001b[0m\u001b[0;34m,\u001b[0m\u001b[0;34m'\\t'\u001b[0m\u001b[0;34m,\u001b[0m\u001b[0mcenters\u001b[0m\u001b[0;34m[\u001b[0m\u001b[0;36m0\u001b[0m\u001b[0;34m,\u001b[0m\u001b[0mi\u001b[0m\u001b[0;34m]\u001b[0m\u001b[0;34m,\u001b[0m\u001b[0;34m'\\t'\u001b[0m\u001b[0;34m,\u001b[0m\u001b[0mcenters\u001b[0m\u001b[0;34m[\u001b[0m\u001b[0;36m1\u001b[0m\u001b[0;34m,\u001b[0m\u001b[0mi\u001b[0m\u001b[0;34m]\u001b[0m\u001b[0;34m,\u001b[0m\u001b[0;34m)\u001b[0m\u001b[0;34m\u001b[0m\u001b[0m\n\u001b[0m",
      "\u001b[0;31mIndexError\u001b[0m: index 5 is out of bounds for axis 1 with size 5"
     ]
    }
   ],
   "source": [
    "# print center of clusters\n",
    "centers = kmeans.cluster_centers_\n",
    "# whether or not set cluster center >= 0?\n",
    "centers[centers<0] = 0\n",
    "for i in range(len(result)):\n",
    "    print(i+1,'\\t',centers[0,i],'\\t',centers[1,i],)"
   ]
  },
  {
   "cell_type": "code",
   "execution_count": 9,
   "metadata": {
    "collapsed": false
   },
   "outputs": [
    {
     "name": "stdout",
     "output_type": "stream",
     "text": [
      "[1 0 0 0 1 1 0 1 0 0 0 0 0 1 1 1 0 0 1 0 1 0 0 1 1 1 1 1 0 1 1 1 1 1 1 1 1\n",
      " 1 1 1 1 0 0 1 1 1 1 1 1 1 1 1 1 1 1 1 1 0 0 0 0 0 0 0 0 0 0 1 0 0 0 1 1 1\n",
      " 1 1 0 1 1 1 1 0 0 0 0 0 0 1 0 0 0 1 0 0 0 0 0 0 0 0 0 1 0 1 1 1 1 1 1 1 1\n",
      " 1 1 0 1 0 0 0 0 0 1 0 0 1 1 1 1 1 1 0 0 1 1 1 1 1 1 0 0 0 0 0 1 1 1 0 0 0\n",
      " 0 0 1 1 1 1 0 0 1 0 0 1 0 0 0 0 1 1 0 1 1 0 1 0 1 0 0 0 0 0 0 0 1 0 0 1 1\n",
      " 1 1 1 1 1 1 0 0 0 1 0 0 0 0 1 1 1 1 0 1 0 0 0 0 0 0 0 0 0 1 1 1 1 1 1 1 0\n",
      " 0 0 1 1 1 0 1 0 1 1 0 0 0 1 1 0 0 0 0 0 0 0 0 1 1 0 0 0 1 0 1 1 0 0 1 1 0\n",
      " 1 1 1 1 1 1 1 1 1 1 0 1 1 0 1 1 1 1 1 1 0 0 0 0 0 0 0 1 1 0 1 1 1 1 0 0 0\n",
      " 0 0 0 1 1 0 0 0 0 0 0 0 0 1 1 1 0 0 0 0 1 1 1 0 0 1 1 1 1 1 1 1 1 1 1 1 1\n",
      " 1 1 1 1 0 0 0 0 0 0 0 1 1 1 1 1 1 1 1 1 1 1 1 1 1 1 1 0 1 1 1 0 1 1 0 1 0\n",
      " 1 1 1 1 1 1 1 1 1 1 0 0 1 1 1 1 0 0 0 0 0 1 1 0 1 1 1 1 1 1 1 0 1 0 1 0 0\n",
      " 0 0 0 0 0 0 1 0 0 1 1 1 0 0 1 1 0 0 0 0 0 1 0 0 1 0 0 1 0 0 0 0 0 0 1 1 1\n",
      " 1 1 1 1 1 1 1 1 0 1 1 0 1 1 0 0 0 0 0 0 1 1 0 0 1 1 0 1 1 0 0 0 1 1 1 1 0\n",
      " 1 1 1 0 0 0 0 0 1 0 1 1 1 0 0 0 0 0 0 0 0 0 0 0 0 0 1 0 1 0 0 0 0 1 1 0 0\n",
      " 0 0 0 0 0 0 0 0 1 0 0 0 1 1 1 1 0 0 1 1 1 1 1 0 0 1 1 1 1 1 1 1 1 1 1 0 0\n",
      " 0 0 0 1 1 0 0 0 0 0 0 0 0 0 0 0 0 0 0 0 0 0 1 0 0 0 0 0 0 0 0 0 0 1 1 1 1\n",
      " 1 1 0 0 0 0 1 1 0 0 0 0 0 0 0 0 1 0 0 0 0 0 0 0 1 1 0 0 0 1 0 0 0 0 0 0 0\n",
      " 1 1 1 1 1 1 0 1 1 1 1 1 0 0 1 0 1 1 1 1 1 1 1 1 1 1 1 1 0 0 0 1 1 1 0 1 1\n",
      " 1 1 1 1 0 0 1 1 1 1 1 1 1 1 1 1 0 1 1 1 1 1 1 1 1 0 0 1 1 1 1 0 1 1 1 1 0\n",
      " 0 1 0 1 1 1 0 1 0 1 1 0 0 0 1 1 0 0 0 0 0 0 1 0 0 0 0 1 1 1 1 1 0 1 1 1 1\n",
      " 1 0 1 1 0 0 0 0 0 0 0 0 0 0 0 0 0 0 0 1 1 1 1 0 0 0 1 0 0 0 0 1 1 1 0 0 0\n",
      " 0 0 1 0 1 0 0 0 0 0 0 0 0 0 1 1 1 1 1 1 0 0 0 0 1 1 0 0 0 1 1 0 1 1 1 1 0\n",
      " 0 1 1 0 0 0 0 0 0 0 1 1 1 1 1 0 0 0 1 1 0 0 0 0 1 1 1 1 1 1 0 0 0 0 0 0 0\n",
      " 0 1 0 1 1 0 0 1 1 1 1 1 0 0 0 0 1 1 0 1 1 0 0 0 1 1 1 1 1 1 1 1 1 1 1 1 0\n",
      " 0 1 1 1 1 0 0 1 1 1 0 0 0 0 0 1 1 1 1 1 1 0 0 1 0 1 1 1 1 0 0 0 0 1 1 1 1\n",
      " 0 0 1 1 0 0 0 1 1 1 1 0 0 1 1 0 0 0 0 0 1 0 0 0 0 0 1 0 1 0 1 0 1 1 1 1 1\n",
      " 1 0 1 1 0 0 1 1 1 1 1 1 1 1 0 1 0 1 1 1 0 1 1 1 1 1 0 0 0 0 0 0 0 0 0 0 0\n",
      " 1]\n"
     ]
    }
   ],
   "source": [
    "print(result[0:1000])"
   ]
  },
  {
   "cell_type": "code",
   "execution_count": 10,
   "metadata": {
    "collapsed": false
   },
   "outputs": [
    {
     "name": "stdout",
     "output_type": "stream",
     "text": [
      "589824\n"
     ]
    }
   ],
   "source": [
    "print(len(result))"
   ]
  },
  {
   "cell_type": "code",
   "execution_count": 11,
   "metadata": {
    "collapsed": false
   },
   "outputs": [
    {
     "name": "stdout",
     "output_type": "stream",
     "text": [
      "281265\n",
      "0.4768625895182292\n"
     ]
    }
   ],
   "source": [
    "# count the classification result matrix for 1's and 0's\n",
    "crystal_count = 0\n",
    "for i in range(len(result)):\n",
    "    if result[i] == 1:\n",
    "        crystal_count += 1\n",
    "    else:\n",
    "        continue\n",
    "print(crystal_count)\n",
    "print(crystal_count / len(result))"
   ]
  },
  {
   "cell_type": "code",
   "execution_count": 14,
   "metadata": {
    "collapsed": true
   },
   "outputs": [],
   "source": [
    "# try clustering with different k values\n",
    "# k = 4\n",
    "scan = np.loadtxt('../Data/AFM/AggregatedData/%s.txt'% ('10-10'))\n",
    "m, n = scan.shape\n",
    "    \n",
    "kmeans = KMeans(n_clusters=4, random_state=0).fit(scan)"
   ]
  },
  {
   "cell_type": "code",
   "execution_count": 15,
   "metadata": {
    "collapsed": true
   },
   "outputs": [],
   "source": [
    "result = kmeans.predict(scan)\n",
    "np.savetxt('../Data/AFM/AggregatedData/ClassifyTest2/%s.txt'%('10-10cluster-k=4'), result)"
   ]
  },
  {
   "cell_type": "code",
   "execution_count": 16,
   "metadata": {
    "collapsed": false
   },
   "outputs": [
    {
     "name": "stdout",
     "output_type": "stream",
     "text": [
      "1 \t 6.92506480365e-05 \t 9.12322898615e-05 \t -0.000707215374519 \t 0.000212597601173\n",
      "2 \t -3.9453112191e-11 \t 3.9329967218e-11 \t -1.79333343377e-10 \t 1.37313826034e-10\n",
      "3 \t -3.95507639676e-05 \t -2.52447447422e-05 \t 0.000239999767592 \t -0.000123361915515\n",
      "4 \t 0.0212466159575 \t -0.0154741378074 \t 0.065003767735 \t -0.0609674354594\n",
      "5 \t 0.0275060112637 \t -0.0232999435539 \t 0.094085376185 \t -0.0800704010131\n"
     ]
    },
    {
     "ename": "IndexError",
     "evalue": "index 5 is out of bounds for axis 1 with size 5",
     "output_type": "error",
     "traceback": [
      "\u001b[0;31m---------------------------------------------------------------------------\u001b[0m",
      "\u001b[0;31mIndexError\u001b[0m                                Traceback (most recent call last)",
      "\u001b[0;32m<ipython-input-16-1105b93f4eea>\u001b[0m in \u001b[0;36m<module>\u001b[0;34m()\u001b[0m\n\u001b[1;32m      1\u001b[0m \u001b[0mcenters\u001b[0m \u001b[0;34m=\u001b[0m \u001b[0mkmeans\u001b[0m\u001b[0;34m.\u001b[0m\u001b[0mcluster_centers_\u001b[0m\u001b[0;34m\u001b[0m\u001b[0m\n\u001b[1;32m      2\u001b[0m \u001b[0;32mfor\u001b[0m \u001b[0mi\u001b[0m \u001b[0;32min\u001b[0m \u001b[0mrange\u001b[0m\u001b[0;34m(\u001b[0m\u001b[0mlen\u001b[0m\u001b[0;34m(\u001b[0m\u001b[0mresult\u001b[0m\u001b[0;34m)\u001b[0m\u001b[0;34m)\u001b[0m\u001b[0;34m:\u001b[0m\u001b[0;34m\u001b[0m\u001b[0m\n\u001b[0;32m----> 3\u001b[0;31m     \u001b[0mprint\u001b[0m\u001b[0;34m(\u001b[0m\u001b[0mi\u001b[0m\u001b[0;34m+\u001b[0m\u001b[0;36m1\u001b[0m\u001b[0;34m,\u001b[0m\u001b[0;34m'\\t'\u001b[0m\u001b[0;34m,\u001b[0m\u001b[0mcenters\u001b[0m\u001b[0;34m[\u001b[0m\u001b[0;36m0\u001b[0m\u001b[0;34m,\u001b[0m\u001b[0mi\u001b[0m\u001b[0;34m]\u001b[0m\u001b[0;34m,\u001b[0m\u001b[0;34m'\\t'\u001b[0m\u001b[0;34m,\u001b[0m\u001b[0mcenters\u001b[0m\u001b[0;34m[\u001b[0m\u001b[0;36m1\u001b[0m\u001b[0;34m,\u001b[0m\u001b[0mi\u001b[0m\u001b[0;34m]\u001b[0m\u001b[0;34m,\u001b[0m\u001b[0;34m'\\t'\u001b[0m\u001b[0;34m,\u001b[0m\u001b[0mcenters\u001b[0m\u001b[0;34m[\u001b[0m\u001b[0;36m2\u001b[0m\u001b[0;34m,\u001b[0m\u001b[0mi\u001b[0m\u001b[0;34m]\u001b[0m\u001b[0;34m,\u001b[0m\u001b[0;34m'\\t'\u001b[0m\u001b[0;34m,\u001b[0m\u001b[0mcenters\u001b[0m\u001b[0;34m[\u001b[0m\u001b[0;36m3\u001b[0m\u001b[0;34m,\u001b[0m\u001b[0mi\u001b[0m\u001b[0;34m]\u001b[0m\u001b[0;34m)\u001b[0m\u001b[0;34m\u001b[0m\u001b[0m\n\u001b[0m",
      "\u001b[0;31mIndexError\u001b[0m: index 5 is out of bounds for axis 1 with size 5"
     ]
    }
   ],
   "source": [
    "# print center of 4 clusters\n",
    "centers = kmeans.cluster_centers_\n",
    "for i in range(len(result)):\n",
    "    print(i+1,'\\t',centers[0,i],'\\t',centers[1,i],'\\t',centers[2,i],'\\t',centers[3,i])"
   ]
  },
  {
   "cell_type": "code",
   "execution_count": 5,
   "metadata": {
    "collapsed": false
   },
   "outputs": [
    {
     "name": "stdout",
     "output_type": "stream",
     "text": [
      "[0 1 1 1 0 0 1 0 1 1 1 1 1 0 0 0 3 1 0 1 0 1 3 0 2 0 0 0 1 0 0 0 0 2 2 0 2\n",
      " 2 2 2 0 1 3 0 0 0 0 2 0 0 0 2 2 2 2 0 0 1 3 3 3 3 3 3 3 1 1 0 3 1 1 0 0 0\n",
      " 0 0 1 0 0 2 0 1 1 1 1 1 1 0 1 1 1 0 1 1 1 3 3 3 1 1 1 0 1 0 2 0 2 0 2 0 0\n",
      " 0 0 1 2 3 3 3 3 3 0 1 3 0 0 0 2 0 0 1 1 0 2 0 0 0 0 1 1 1 3 1 0 0 2 1 1 3\n",
      " 3 1 0 0 0 0 1 1 0 1 1 0 3 3 3 1 0 0 3 0 0 3 2 1 0 3 3 3 3 1 3 3 0 1 1 2 2\n",
      " 2 2 2 0 2 0 3 1 1 0 1 3 3 1 0 0 0 0 1 0 3 3 3 1 3 1 3 3 3 0 0 0 0 0 0 0 1\n",
      " 1 1 0 0 0 1 0 3 0 0 1 3 1 2 0 3 3 3 3 3 3 3 3 0 0 3 1 1 0 3 2 0 1 1 0 0 3\n",
      " 2 2 0 0 0 2 2 2 2 0 1 0 0 1 0 0 2 2 2 0 1 3 3 1 1 1 3 0 0 1 0 0 0 0 1 3 3\n",
      " 3 1 1 0 0 3 1 3 3 3 3 3 1 0 0 0 1 3 1 1 0 2 0 3 1 0 0 2 2 2 2 0 2 2 0 0 2\n",
      " 2 2 2 2 3 3 3 1 3 1 3 0 0 0 2 2 2 2 0 2 2 2 2 2 2 2 0 1 0 2 0 1 0 0 1 0 1\n",
      " 2 2 0 0 0 2 0 0 0 0 1 1 2 0 2 2 1 3 3 3 3 0 0 3 0 0 2 0 0 2 0 1 2 1 2 3 1\n",
      " 1 3 3 1 1 1 0 1 1 0 0 0 1 1 0 0 3 3 3 3 3 0 1 1 0 1 3 0 1 1 1 1 3 1 2 2 0\n",
      " 0 2 0 2 0 0 0 0 3 0 2 1 0 0 1 3 3 3 1 3 0 1 1 1 0 0 1 0 2 3 1 1 0 0 0 0 1\n",
      " 0 0 2 1 1 1 1 1 2 1 2 0 0 1 1 3 3 1 1 1 1 1 1 1 1 1 0 1 0 1 1 1 1 2 2 1 1\n",
      " 1 3 1 1 1 1 1 1 2 3 1 1 0 0 2 0 1 1 0 2 0 0 0 1 1 2 0 0 1 2 2 2 2 2 2 1 1\n",
      " 3 3 1 0 0 1 3 3 3 3 3 3 3 3 1 3 3 3 3 1 1 1 0 3 3 1 1 3 3 3 3 3 3 0 0 2 0\n",
      " 0 0 1 1 3 1 0 0 3 3 3 3 1 1 1 1 2 1 1 1 3 3 3 1 0 0 1 1 1 0 1 1 3 1 3 1 1\n",
      " 0 0 0 0 2 0 1 0 0 0 0 0 1 1 0 1 0 0 0 0 0 0 2 2 2 0 0 0 1 1 1 0 2 2 1 0 2\n",
      " 2 2 2 0 1 1 0 0 0 0 2 2 2 2 0 0 1 0 0 0 2 0 2 2 0 1 1 2 0 0 0 1 0 0 0 0 1\n",
      " 1 0 1 0 0 0 3 0 1 0 0 1 1 3 0 2 3 3 3 3 1 1 0 1 3 3 3 0 0 0 0 2 1 0 2 2 0\n",
      " 0 1 0 2 1 3 1 1 1 1 3 1 3 3 1 1 1 1 1 0 0 0 0 3 3 3 0 3 1 1 3 2 2 2 3 1 1\n",
      " 3 3 0 1 0 1 1 1 1 3 1 1 3 1 0 0 2 2 0 0 1 1 1 1 0 0 1 3 1 0 0 1 0 2 2 0 1\n",
      " 1 2 2 1 3 3 1 1 1 3 0 2 0 0 0 3 3 1 0 0 1 3 3 3 0 0 0 0 0 0 1 3 3 3 1 1 1\n",
      " 1 0 1 0 0 1 1 0 0 0 0 0 3 3 1 1 0 0 1 0 0 1 3 3 0 0 0 0 0 0 0 0 2 2 2 0 1\n",
      " 1 0 0 2 0 1 1 0 2 0 3 3 3 1 1 0 0 2 2 0 0 3 1 2 1 0 0 2 2 1 3 1 1 0 0 0 0\n",
      " 1 3 0 0 3 3 3 0 0 2 0 1 3 0 2 1 1 1 1 1 0 1 3 1 1 1 0 3 0 1 0 1 0 0 0 0 2\n",
      " 2 1 0 0 3 1 0 2 2 2 0 2 0 0 3 0 1 0 2 0 1 0 0 0 0 0 1 3 3 3 3 3 3 3 3 1 3\n",
      " 0]\n"
     ]
    }
   ],
   "source": [
    "print(result[0:1000])"
   ]
  },
  {
   "cell_type": "code",
   "execution_count": 8,
   "metadata": {
    "collapsed": false
   },
   "outputs": [
    {
     "name": "stdout",
     "output_type": "stream",
     "text": [
      "198268 209675 80160 101721\n"
     ]
    }
   ],
   "source": [
    "# count how many 0 1 2 3's there are respectively\n",
    "count0 = 0\n",
    "count1 = 0\n",
    "count2 = 0\n",
    "count3 = 0\n",
    "for i in range(len(result)):\n",
    "    if result[i] == 0:\n",
    "        count0 += 1;\n",
    "    elif result[i] == 1:\n",
    "        count1 += 1;\n",
    "    elif result[i] == 2:\n",
    "        count2 += 1;\n",
    "    elif result[i] == 3:\n",
    "        count3 += 1;\n",
    "print(count0, count1, count2, count3)"
   ]
  },
  {
   "cell_type": "code",
   "execution_count": 9,
   "metadata": {
    "collapsed": false
   },
   "outputs": [
    {
     "name": "stdout",
     "output_type": "stream",
     "text": [
      "0.3361477322048611 0.3554873996310764 0.13590494791666666 0.17245992024739584\n"
     ]
    }
   ],
   "source": [
    "print(count0/len(result), count1/len(result), count2/len(result), count3/len(result))"
   ]
  },
  {
   "cell_type": "code",
   "execution_count": null,
   "metadata": {
    "collapsed": true
   },
   "outputs": [],
   "source": []
  }
 ],
 "metadata": {
  "anaconda-cloud": {},
  "kernelspec": {
   "display_name": "Python [default]",
   "language": "python",
   "name": "python3"
  },
  "language_info": {
   "codemirror_mode": {
    "name": "ipython",
    "version": 3
   },
   "file_extension": ".py",
   "mimetype": "text/x-python",
   "name": "python",
   "nbconvert_exporter": "python",
   "pygments_lexer": "ipython3",
   "version": "3.5.2"
  }
 },
 "nbformat": 4,
 "nbformat_minor": 2
}
