{
 "cells": [
  {
   "cell_type": "code",
   "execution_count": 1,
   "metadata": {
    "collapsed": true
   },
   "outputs": [],
   "source": [
    "import numpy as np\n",
    "import matplotlib.pyplot as plt\n",
    "%matplotlib inline"
   ]
  },
  {
   "cell_type": "code",
   "execution_count": 8,
   "metadata": {
    "collapsed": true
   },
   "outputs": [],
   "source": [
    "def pixel_classifier(scan):\n",
    "    \"\"\"\n",
    "    This function takes in a 3D array of AFM data from a single scan. It iterates through each xy location and\n",
    "    classifies that pixel as either crystalline or amorphous, depending on its z values.\n",
    "    \n",
    "    inputs: scan - a 3D np.ndarray of AFM data\n",
    "    \n",
    "    outputs: classified_pixels - a 2D np.array of each pixel's classifications, where 1 is crystalline and 0 is\n",
    "                amorphous\n",
    "    \n",
    "    It is intended that, after this function is called, the results (classified_pixels) will be appended to the input\n",
    "    array (scan)\n",
    "    \"\"\"\n",
    "    \n",
    "    x, y, z = scan.shape\n",
    "    \n",
    "    classified_pixels = np.empty([x, y])\n",
    "    \n",
    "    for i in range(x):\n",
    "        for j in range(y):\n",
    "            majority_count = 0\n",
    "            \n",
    "            if scan[i, j, 0] >= 0.003:\n",
    "                majority_count += 1\n",
    "            else:\n",
    "                pass\n",
    "            \n",
    "            if scan[i, j, 1] >= 0.00000000015:\n",
    "                majority_count += 1\n",
    "            else:\n",
    "                pass\n",
    "            \n",
    "            if scan[i, j, 2] >= 0.005:\n",
    "                majority_count += 1\n",
    "            else:\n",
    "                pass\n",
    "            \n",
    "            if scan[i, j, 3] >= 0.02:\n",
    "                majority_count += 1\n",
    "            else:\n",
    "                pass\n",
    "            \n",
    "            if scan[i, j, 4] >= 0.02:\n",
    "                majority_count += 1\n",
    "            else:\n",
    "                pass\n",
    "            \n",
    "            if majority_count >= 3:\n",
    "                classified_pixels[i, j] = 1\n",
    "            else:\n",
    "                classified_pixels[i, j] = 0\n",
    "    \n",
    "    return classified_pixels"
   ]
  },
  {
   "cell_type": "code",
   "execution_count": 7,
   "metadata": {
    "collapsed": false,
    "scrolled": false
   },
   "outputs": [
    {
     "ename": "ValueError",
     "evalue": "Some errors were detected !\n    Line #2 (got 2 columns instead of 4)\n    Line #4 (got 2 columns instead of 4)\n    Line #6 (got 2 columns instead of 4)\n    Line #7 (got 1 columns instead of 4)\n    Line #9 (got 2 columns instead of 4)\n    Line #11 (got 2 columns instead of 4)\n    Line #13 (got 2 columns instead of 4)\n    Line #16 (got 2 columns instead of 4)\n    Line #18 (got 2 columns instead of 4)\n    Line #20 (got 2 columns instead of 4)\n    Line #21 (got 1 columns instead of 4)\n    Line #23 (got 2 columns instead of 4)\n    Line #25 (got 2 columns instead of 4)\n    Line #27 (got 2 columns instead of 4)\n    Line #30 (got 2 columns instead of 4)\n    Line #32 (got 2 columns instead of 4)\n    Line #34 (got 2 columns instead of 4)\n    Line #35 (got 1 columns instead of 4)\n    Line #37 (got 2 columns instead of 4)\n    Line #39 (got 2 columns instead of 4)\n    Line #41 (got 2 columns instead of 4)\n    Line #43 (got 1 columns instead of 4)\n    Line #45 (got 2 columns instead of 4)\n    Line #47 (got 2 columns instead of 4)\n    Line #49 (got 2 columns instead of 4)\n    Line #50 (got 1 columns instead of 4)\n    Line #52 (got 2 columns instead of 4)\n    Line #54 (got 2 columns instead of 4)\n    Line #56 (got 2 columns instead of 4)\n    Line #59 (got 2 columns instead of 4)\n    Line #61 (got 2 columns instead of 4)\n    Line #63 (got 2 columns instead of 4)\n    Line #64 (got 1 columns instead of 4)\n    Line #66 (got 2 columns instead of 4)\n    Line #68 (got 2 columns instead of 4)\n    Line #70 (got 2 columns instead of 4)\n    Line #73 (got 2 columns instead of 4)\n    Line #75 (got 2 columns instead of 4)\n    Line #77 (got 2 columns instead of 4)\n    Line #78 (got 1 columns instead of 4)\n    Line #80 (got 2 columns instead of 4)\n    Line #82 (got 2 columns instead of 4)\n    Line #84 (got 2 columns instead of 4)",
     "output_type": "error",
     "traceback": [
      "\u001b[0;31m---------------------------------------------------------------------------\u001b[0m",
      "\u001b[0;31mValueError\u001b[0m                                Traceback (most recent call last)",
      "\u001b[0;32m<ipython-input-7-d7e84668f91f>\u001b[0m in \u001b[0;36m<module>\u001b[0;34m()\u001b[0m\n\u001b[0;32m----> 1\u001b[0;31m \u001b[0mscan\u001b[0m \u001b[0;34m=\u001b[0m \u001b[0mnp\u001b[0m\u001b[0;34m.\u001b[0m\u001b[0mgenfromtxt\u001b[0m\u001b[0;34m(\u001b[0m\u001b[0;34m'../Data/AFM/AggregatedData/11-10.txt'\u001b[0m\u001b[0;34m)\u001b[0m\u001b[0;34m\u001b[0m\u001b[0m\n\u001b[0m",
      "\u001b[0;32m/Users/wesleytatum/miniconda3/lib/python3.5/site-packages/numpy/lib/npyio.py\u001b[0m in \u001b[0;36mgenfromtxt\u001b[0;34m(fname, dtype, comments, delimiter, skip_header, skip_footer, converters, missing_values, filling_values, usecols, names, excludelist, deletechars, replace_space, autostrip, case_sensitive, defaultfmt, unpack, usemask, loose, invalid_raise, max_rows)\u001b[0m\n\u001b[1;32m   1826\u001b[0m             \u001b[0;31m# Raise an exception ?\u001b[0m\u001b[0;34m\u001b[0m\u001b[0;34m\u001b[0m\u001b[0m\n\u001b[1;32m   1827\u001b[0m             \u001b[0;32mif\u001b[0m \u001b[0minvalid_raise\u001b[0m\u001b[0;34m:\u001b[0m\u001b[0;34m\u001b[0m\u001b[0m\n\u001b[0;32m-> 1828\u001b[0;31m                 \u001b[0;32mraise\u001b[0m \u001b[0mValueError\u001b[0m\u001b[0;34m(\u001b[0m\u001b[0merrmsg\u001b[0m\u001b[0;34m)\u001b[0m\u001b[0;34m\u001b[0m\u001b[0m\n\u001b[0m\u001b[1;32m   1829\u001b[0m             \u001b[0;31m# Issue a warning ?\u001b[0m\u001b[0;34m\u001b[0m\u001b[0;34m\u001b[0m\u001b[0m\n\u001b[1;32m   1830\u001b[0m             \u001b[0;32melse\u001b[0m\u001b[0;34m:\u001b[0m\u001b[0;34m\u001b[0m\u001b[0m\n",
      "\u001b[0;31mValueError\u001b[0m: Some errors were detected !\n    Line #2 (got 2 columns instead of 4)\n    Line #4 (got 2 columns instead of 4)\n    Line #6 (got 2 columns instead of 4)\n    Line #7 (got 1 columns instead of 4)\n    Line #9 (got 2 columns instead of 4)\n    Line #11 (got 2 columns instead of 4)\n    Line #13 (got 2 columns instead of 4)\n    Line #16 (got 2 columns instead of 4)\n    Line #18 (got 2 columns instead of 4)\n    Line #20 (got 2 columns instead of 4)\n    Line #21 (got 1 columns instead of 4)\n    Line #23 (got 2 columns instead of 4)\n    Line #25 (got 2 columns instead of 4)\n    Line #27 (got 2 columns instead of 4)\n    Line #30 (got 2 columns instead of 4)\n    Line #32 (got 2 columns instead of 4)\n    Line #34 (got 2 columns instead of 4)\n    Line #35 (got 1 columns instead of 4)\n    Line #37 (got 2 columns instead of 4)\n    Line #39 (got 2 columns instead of 4)\n    Line #41 (got 2 columns instead of 4)\n    Line #43 (got 1 columns instead of 4)\n    Line #45 (got 2 columns instead of 4)\n    Line #47 (got 2 columns instead of 4)\n    Line #49 (got 2 columns instead of 4)\n    Line #50 (got 1 columns instead of 4)\n    Line #52 (got 2 columns instead of 4)\n    Line #54 (got 2 columns instead of 4)\n    Line #56 (got 2 columns instead of 4)\n    Line #59 (got 2 columns instead of 4)\n    Line #61 (got 2 columns instead of 4)\n    Line #63 (got 2 columns instead of 4)\n    Line #64 (got 1 columns instead of 4)\n    Line #66 (got 2 columns instead of 4)\n    Line #68 (got 2 columns instead of 4)\n    Line #70 (got 2 columns instead of 4)\n    Line #73 (got 2 columns instead of 4)\n    Line #75 (got 2 columns instead of 4)\n    Line #77 (got 2 columns instead of 4)\n    Line #78 (got 1 columns instead of 4)\n    Line #80 (got 2 columns instead of 4)\n    Line #82 (got 2 columns instead of 4)\n    Line #84 (got 2 columns instead of 4)"
     ]
    }
   ],
   "source": [
    "scan = np.genfromtxt('../Data/AFM/AggregatedData/11-10.txt')"
   ]
  },
  {
   "cell_type": "code",
   "execution_count": null,
   "metadata": {
    "collapsed": true
   },
   "outputs": [],
   "source": []
  }
 ],
 "metadata": {
  "anaconda-cloud": {},
  "kernelspec": {
   "display_name": "Python [conda root]",
   "language": "python",
   "name": "conda-root-py"
  },
  "language_info": {
   "codemirror_mode": {
    "name": "ipython",
    "version": 3
   },
   "file_extension": ".py",
   "mimetype": "text/x-python",
   "name": "python",
   "nbconvert_exporter": "python",
   "pygments_lexer": "ipython3",
   "version": "3.5.2"
  }
 },
 "nbformat": 4,
 "nbformat_minor": 2
}
