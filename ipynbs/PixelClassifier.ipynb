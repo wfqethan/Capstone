{
 "cells": [
  {
   "cell_type": "code",
   "execution_count": 3,
   "metadata": {
    "collapsed": true
   },
   "outputs": [],
   "source": [
    "import math\n",
    "\n",
    "import numpy as np\n",
    "import matplotlib.pyplot as plt\n",
    "%matplotlib inline"
   ]
  },
  {
   "cell_type": "code",
   "execution_count": 8,
   "metadata": {
    "collapsed": true
   },
   "outputs": [],
   "source": [
    "def pixel_classifier(scan):\n",
    "    \"\"\"\n",
    "    This function takes in a 3D array of AFM data from a single scan. It iterates through each xy location and\n",
    "    classifies that pixel as either crystalline or amorphous, depending on its z values.\n",
    "    \n",
    "    inputs: scan - a 3D np.ndarray of AFM data\n",
    "    \n",
    "    outputs: classified_pixels - a 2D np.array of each pixel's classifications, where 1 is crystalline and 0 is\n",
    "                amorphous\n",
    "    \n",
    "    It is intended that, after this function is called, the results (classified_pixels) will be appended to the input\n",
    "    array (scan)\n",
    "    \"\"\"\n",
    "    \n",
    "    x, y, z = scan.shape\n",
    "    \n",
    "    adh_cut = 0.003 #3 mV\n",
    "    def_cut = 0.00000000015 #0.15 nm\n",
    "    dis_cut = 0.005 #5 mV\n",
    "    mod_cut = 0.02 #0.02 V\n",
    "    stif_cut = 0.02 #0.02 V\n",
    "    \n",
    "    classified_pixels = np.empty([x, y])\n",
    "    \n",
    "    for i in range(x):\n",
    "        for j in range(y):\n",
    "            majority_count = 0\n",
    "            \n",
    "            if scan[i, j, 0] >= adh_cut:\n",
    "                majority_count += 1\n",
    "            else:\n",
    "                pass\n",
    "            \n",
    "            if scan[i, j, 1] >= def_cut:\n",
    "                majority_count += 1\n",
    "            else:\n",
    "                pass\n",
    "            \n",
    "            if scan[i, j, 2] >= dis_cut:\n",
    "                majority_count += 1\n",
    "            else:\n",
    "                pass\n",
    "            \n",
    "            if scan[i, j, 3] >= mod_cut:\n",
    "                majority_count += 1\n",
    "            else:\n",
    "                pass\n",
    "            \n",
    "            if scan[i, j, 4] >= stif_cut:\n",
    "                majority_count += 1\n",
    "            else:\n",
    "                pass\n",
    "            \n",
    "            if majority_count >= 3:\n",
    "                classified_pixels[i, j] = 1\n",
    "            else:\n",
    "                classified_pixels[i, j] = 0\n",
    "    \n",
    "    return classified_pixels"
   ]
  },
  {
   "cell_type": "code",
   "execution_count": 5,
   "metadata": {
    "collapsed": false,
    "scrolled": false
   },
   "outputs": [
    {
     "name": "stdout",
     "output_type": "stream",
     "text": [
      "589824 768.0 768.0 5\n"
     ]
    }
   ],
   "source": [
    "scan = np.loadtxt('../Data/AFM/AggregatedData/11-120.txt')\n",
    "x2, z = scan.shape"
   ]
  },
  {
   "cell_type": "code",
   "execution_count": 6,
   "metadata": {
    "collapsed": false
   },
   "outputs": [
    {
     "name": "stdout",
     "output_type": "stream",
     "text": [
      "589824 768 768 5\n"
     ]
    }
   ],
   "source": [
    "x = y = int(math.sqrt(x2))\n",
    "\n",
    "print (x2, x, y, z)"
   ]
  },
  {
   "cell_type": "code",
   "execution_count": 7,
   "metadata": {
    "collapsed": false
   },
   "outputs": [
    {
     "data": {
      "text/plain": [
       "array([[[ -2.25470000e-03,  -1.28770000e-10,  -2.45210000e-03,\n",
       "          -1.60620000e-02,  -1.48150000e-02],\n",
       "        [ -2.61570000e-03,  -1.75360000e-10,  -2.43810000e-03,\n",
       "           6.40830000e-03,   8.25530000e-04],\n",
       "        [ -1.47680000e-03,  -1.39480000e-10,  -2.42420000e-03,\n",
       "           3.91320000e-02,   4.77150000e-02],\n",
       "        ..., \n",
       "        [ -4.29040000e-04,   1.40930000e-10,   1.36840000e-02,\n",
       "           2.68540000e-02,   2.29690000e-02],\n",
       "        [ -4.33130000e-04,   2.23550000e-10,  -1.93600000e-03,\n",
       "          -8.29790000e-03,  -8.27790000e-03],\n",
       "        [ -4.37220000e-04,   2.23680000e-10,  -1.93120000e-03,\n",
       "          -8.29470000e-03,  -8.27540000e-03]],\n",
       "\n",
       "       [[ -2.13640000e-03,   1.85000000e-10,  -4.53680000e-03,\n",
       "           2.34530000e-02,   2.97430000e-02],\n",
       "        [ -2.12720000e-03,   1.71740000e-12,  -4.51170000e-03,\n",
       "           2.97990000e-02,   2.97450000e-02],\n",
       "        [ -1.74300000e-03,   2.12510000e-10,  -4.48670000e-03,\n",
       "           3.02860000e-02,   2.97460000e-02],\n",
       "        ..., \n",
       "        [  7.36490000e-04,  -2.49470000e-10,  -3.23990000e-03,\n",
       "          -1.11180000e-02,  -1.13140000e-02],\n",
       "        [ -1.21790000e-05,  -9.43380000e-11,  -3.24420000e-03,\n",
       "           7.97210000e-03,   4.36560000e-03],\n",
       "        [  1.11410000e-03,   4.24590000e-11,  -3.24840000e-03,\n",
       "           1.58320000e-02,   2.00450000e-02]],\n",
       "\n",
       "       [[ -1.12310000e-03,   4.87840000e-11,  -1.70690000e-03,\n",
       "           2.07680000e-02,   2.85200000e-02],\n",
       "        [ -3.61410000e-04,   2.03360000e-11,  -1.72100000e-03,\n",
       "           6.62920000e-03,   1.29230000e-02],\n",
       "        [  4.00220000e-04,   1.20190000e-10,   1.38900000e-02,\n",
       "           6.65080000e-03,   1.29510000e-02],\n",
       "        ..., \n",
       "        [  2.29080000e-03,  -2.59490000e-11,   3.59770000e-04,\n",
       "           5.25440000e-03,   8.63490000e-03],\n",
       "        [  1.16410000e-03,  -6.23640000e-11,   3.96750000e-04,\n",
       "          -1.28120000e-02,  -6.98840000e-03],\n",
       "        [  7.87340000e-04,  -2.08750000e-10,   4.33870000e-04,\n",
       "           4.67570000e-02,   5.55120000e-02]],\n",
       "\n",
       "       ..., \n",
       "       [[  1.37970000e-04,   7.70150000e-11,  -1.59500000e-04,\n",
       "           6.74530000e-03,   3.68700000e-03],\n",
       "        [  1.63650000e-03,   3.84790000e-12,  -1.57290000e-04,\n",
       "          -6.90650000e-03,  -1.19130000e-02],\n",
       "        [  2.01000000e-03,  -5.16990000e-12,  -1.55100000e-04,\n",
       "          -3.17890000e-02,  -4.31370000e-02],\n",
       "        ..., \n",
       "        [ -8.94490000e-04,   1.42640000e-10,   4.55460000e-04,\n",
       "          -2.48700000e-02,  -3.26470000e-02],\n",
       "        [ -5.13760000e-04,   9.68690000e-11,   4.58420000e-04,\n",
       "          -1.49720000e-03,  -1.47060000e-03],\n",
       "        [ -5.08000000e-04,  -1.30550000e-11,   4.61400000e-04,\n",
       "          -1.71860000e-02,  -1.71690000e-02]],\n",
       "\n",
       "       [[  4.85960000e-04,  -8.48520000e-12,  -1.39620000e-04,\n",
       "          -2.46400000e-03,  -5.75920000e-03],\n",
       "        [ -2.62980000e-04,  -2.10230000e-10,  -1.37440000e-04,\n",
       "           5.39080000e-03,   9.91000000e-03],\n",
       "        [ -1.01190000e-03,  -2.47020000e-10,  -1.35270000e-04,\n",
       "           1.47100000e-02,   9.95440000e-03],\n",
       "        ..., \n",
       "        [ -1.91800000e-03,   1.24510000e-11,   1.35270000e-04,\n",
       "          -5.74820000e-04,   3.41000000e-03],\n",
       "        [ -2.29240000e-03,  -1.61480000e-10,   1.37440000e-04,\n",
       "           3.48680000e-04,   3.35430000e-03],\n",
       "        [ -2.29180000e-03,  -1.24640000e-10,   1.39620000e-04,\n",
       "          -6.05220000e-03,  -1.23260000e-02]],\n",
       "\n",
       "       [[  6.15130000e-07,  -2.56010000e-10,  -1.42550000e-04,\n",
       "           2.67740000e-02,   3.41720000e-02],\n",
       "        [ -7.48880000e-04,   1.10540000e-10,  -1.40320000e-04,\n",
       "           2.36880000e-03,   2.93020000e-03],\n",
       "        [ -1.12340000e-03,   2.20490000e-10,  -1.38110000e-04,\n",
       "          -1.52840000e-03,   2.93780000e-03],\n",
       "        ..., \n",
       "        [ -1.03780000e-03,   1.21260000e-10,   1.38110000e-04,\n",
       "          -1.94100000e-02,  -2.09190000e-02],\n",
       "        [ -1.03700000e-03,   2.98200000e-11,   1.40320000e-04,\n",
       "          -3.21670000e-02,  -3.66080000e-02],\n",
       "        [ -1.03630000e-03,  -6.16230000e-11,   1.42550000e-04,\n",
       "           6.83360000e-03,   1.02010000e-02]]])"
      ]
     },
     "execution_count": 7,
     "metadata": {},
     "output_type": "execute_result"
    }
   ],
   "source": [
    "scan.reshape(x, y, z)"
   ]
  },
  {
   "cell_type": "code",
   "execution_count": null,
   "metadata": {
    "collapsed": true
   },
   "outputs": [],
   "source": []
  }
 ],
 "metadata": {
  "anaconda-cloud": {},
  "kernelspec": {
   "display_name": "Python [conda root]",
   "language": "python",
   "name": "conda-root-py"
  },
  "language_info": {
   "codemirror_mode": {
    "name": "ipython",
    "version": 3
   },
   "file_extension": ".py",
   "mimetype": "text/x-python",
   "name": "python",
   "nbconvert_exporter": "python",
   "pygments_lexer": "ipython3",
   "version": "3.5.2"
  }
 },
 "nbformat": 4,
 "nbformat_minor": 2
}
