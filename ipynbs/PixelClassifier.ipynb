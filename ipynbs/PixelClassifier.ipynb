{
 "cells": [
  {
   "cell_type": "code",
   "execution_count": 1,
   "metadata": {
    "collapsed": true
   },
   "outputs": [],
   "source": [
    "import math\n",
    "import timeit\n",
    "\n",
    "import numpy as np\n",
    "import matplotlib.pyplot as plt\n",
    "%matplotlib inline"
   ]
  },
  {
   "cell_type": "code",
   "execution_count": 32,
   "metadata": {
    "collapsed": false
   },
   "outputs": [],
   "source": [
    "def pixel_classifier_scan(sampleName):\n",
    "    \"\"\"\n",
    "    This function takes in the name of a sample and calls the pixel classification method that looks only at the values\n",
    "    of the pixel's mechanical properties.\n",
    "    \n",
    "    Inputs: sampleName - a string of the sample's name, excluding filetype extension. Assumes .txt filetype\n",
    "    \n",
    "    Outputs: pixel_identities - a 2D array of the classifications of the each pixel within the scan\n",
    "    \n",
    "            *writes a 2D .txt file of the original data + the new classifications\n",
    "    \"\"\"\n",
    "    \n",
    "    scan = np.loadtxt('../Data/AFM/AggregatedData/%s.txt'% (sampleName))\n",
    "    \n",
    "    x2, z = scan.shape\n",
    "    x = y = int(math.sqrt(x2))\n",
    "    scan = scan.reshape((x, y, z))\n",
    "    \n",
    "    pixel_identities = np.empty((x, y))\n",
    "    \n",
    "    for i in range(x):\n",
    "        for j in range(y):\n",
    "            pixel_identities[i, j] = pixel_classifier_pixel(scan[i, j])\n",
    "            \n",
    "    \n",
    "    if z == 5:\n",
    "        scan = scan.reshape((x2, z))\n",
    "        pixel_identities_1d = pixel_identities.reshape((x2, 1))\n",
    "        \n",
    "        scan_and_classif = np.append(scan, pixel_identities_1d, axis = 1)\n",
    "        np.savetxt('../Data/AFM/AggregatedData/ClassificationTest/%s.txt'%(sampleName), scan_and_classif) \n",
    "\n",
    "    else:\n",
    "        for i in range(x):\n",
    "            for j in range(y):\n",
    "                scan[i, j, 5] = pixel_identities[i, j]\n",
    "        scan = scan.reshape((x2, z))\n",
    "        np.savetxt('../Data/AFM/AggregatedData/ClassificationTest/%s.txt'%(sampleName), scan)\n",
    "            \n",
    "    return pixel_identities\n",
    "    "
   ]
  },
  {
   "cell_type": "code",
   "execution_count": 33,
   "metadata": {
    "collapsed": true
   },
   "outputs": [],
   "source": [
    "def pixel_classifier_pixel(pixel):\n",
    "    \"\"\"\n",
    "    This function takes in a 1D array of AFM data from a single scan. It iterates through each xy location and\n",
    "    classifies that pixel as either crystalline or amorphous, depending on its z values.\n",
    "    \n",
    "    inputs: pixel - a 1D array of AFM data for each pixel\n",
    "    \n",
    "    outputs: classified_pixel - an integer that contains the pixel's identity, 1 denotes crystalline, -1 denotes\n",
    "                    amorphous.\n",
    "    \"\"\"\n",
    "    \n",
    "    adh_cut = 0.033 #greater than 33 mV\n",
    "    def_cut = 0.0000000026 #less than 2.6 nm\n",
    "    dis_cut = 0.033 #greater than 33 mV\n",
    "    mod_cut = -0.03 #greater than -0.03 V\n",
    "    stif_cut = 0.01 #greater than 0.01 V \n",
    "    \n",
    "    classified_pixel = 0\n",
    "    \n",
    "    crystalline_count = 0\n",
    "\n",
    "    if pixel[0] >= adh_cut:\n",
    "        crystalline_count += 1\n",
    "    else:\n",
    "        pass\n",
    "\n",
    "    if pixel[1] <= def_cut:\n",
    "        crystalline_count += 1\n",
    "    else:\n",
    "        pass\n",
    "\n",
    "    if pixel[2] >= dis_cut:\n",
    "        crystalline_count += 1\n",
    "    else:\n",
    "        pass\n",
    "\n",
    "    if pixel[3] >= mod_cut:\n",
    "        crystalline_count += 1\n",
    "    else:\n",
    "        pass\n",
    "\n",
    "    if pixel[4] >= stif_cut:\n",
    "        crystalline_count += 1\n",
    "    else:\n",
    "        pass\n",
    "\n",
    "    if crystalline_count >= 3:\n",
    "        classified_pixel = 1\n",
    "    else:\n",
    "        classified_pixel = -1\n",
    "    \n",
    "    return classified_pixel"
   ]
  },
  {
   "cell_type": "code",
   "execution_count": 34,
   "metadata": {
    "collapsed": false,
    "scrolled": false
   },
   "outputs": [],
   "source": [
    "test = pixel_classifier_scan('10-10')"
   ]
  },
  {
   "cell_type": "code",
   "execution_count": 4,
   "metadata": {
    "collapsed": false
   },
   "outputs": [],
   "source": [
    "sampleName = '10-10'\n",
    "\n",
    "scan = np.loadtxt('../Data/AFM/AggregatedData/%s.txt'% (sampleName))\n",
    "\n",
    "x2, z = scan.shape\n",
    "x = y = int(math.sqrt(x2))\n",
    "scan = scan.reshape((x, y, z))"
   ]
  },
  {
   "cell_type": "code",
   "execution_count": 27,
   "metadata": {
    "collapsed": false
   },
   "outputs": [
    {
     "name": "stdout",
     "output_type": "stream",
     "text": [
      "1\n"
     ]
    }
   ],
   "source": [
    "test1 = pixel_classifier_pixel(scan[1, 3])\n",
    "\n",
    "print (test1)"
   ]
  },
  {
   "cell_type": "code",
   "execution_count": 29,
   "metadata": {
    "collapsed": false
   },
   "outputs": [
    {
     "name": "stdout",
     "output_type": "stream",
     "text": [
      "The slowest run took 6.40 times longer than the fastest. This could mean that an intermediate result is being cached.\n",
      "100000 loops, best of 3: 2.11 µs per loop\n"
     ]
    }
   ],
   "source": [
    "%timeit for x in range(1): pixel_classifier_pixel(scan[1, x])"
   ]
  },
  {
   "cell_type": "code",
   "execution_count": 16,
   "metadata": {
    "collapsed": false
   },
   "outputs": [
    {
     "data": {
      "text/plain": [
       "111.24736"
      ]
     },
     "execution_count": 16,
     "metadata": {},
     "output_type": "execute_result"
    }
   ],
   "source": [
    "(0.679*768*768)/(60*60)"
   ]
  },
  {
   "cell_type": "code",
   "execution_count": 19,
   "metadata": {
    "collapsed": false
   },
   "outputs": [
    {
     "ename": "KeyboardInterrupt",
     "evalue": "",
     "output_type": "error",
     "traceback": [
      "\u001b[0;31m---------------------------------------------------------------------------\u001b[0m",
      "\u001b[0;31mKeyboardInterrupt\u001b[0m                         Traceback (most recent call last)",
      "\u001b[0;32m<ipython-input-19-ae8113159e2b>\u001b[0m in \u001b[0;36m<module>\u001b[0;34m()\u001b[0m\n\u001b[0;32m----> 1\u001b[0;31m \u001b[0mvecTest\u001b[0m \u001b[0;34m=\u001b[0m \u001b[0mnp\u001b[0m\u001b[0;34m.\u001b[0m\u001b[0mvectorize\u001b[0m\u001b[0;34m(\u001b[0m\u001b[0mpixel_classifier_scan\u001b[0m\u001b[0;34m(\u001b[0m\u001b[0;34m'10-10'\u001b[0m\u001b[0;34m)\u001b[0m\u001b[0;34m)\u001b[0m\u001b[0;34m\u001b[0m\u001b[0m\n\u001b[0m",
      "\u001b[0;32m<ipython-input-2-2c63a53b80c3>\u001b[0m in \u001b[0;36mpixel_classifier_scan\u001b[0;34m(sampleName)\u001b[0m\n\u001b[1;32m     21\u001b[0m     \u001b[0;32mfor\u001b[0m \u001b[0mi\u001b[0m \u001b[0;32min\u001b[0m \u001b[0mrange\u001b[0m\u001b[0;34m(\u001b[0m\u001b[0mx\u001b[0m\u001b[0;34m)\u001b[0m\u001b[0;34m:\u001b[0m\u001b[0;34m\u001b[0m\u001b[0m\n\u001b[1;32m     22\u001b[0m         \u001b[0;32mfor\u001b[0m \u001b[0mj\u001b[0m \u001b[0;32min\u001b[0m \u001b[0mrange\u001b[0m\u001b[0;34m(\u001b[0m\u001b[0my\u001b[0m\u001b[0;34m)\u001b[0m\u001b[0;34m:\u001b[0m\u001b[0;34m\u001b[0m\u001b[0m\n\u001b[0;32m---> 23\u001b[0;31m             \u001b[0mpixel_identities\u001b[0m\u001b[0;34m[\u001b[0m\u001b[0mi\u001b[0m\u001b[0;34m,\u001b[0m \u001b[0mj\u001b[0m\u001b[0;34m]\u001b[0m \u001b[0;34m=\u001b[0m \u001b[0mpixel_classifier_pixel\u001b[0m\u001b[0;34m(\u001b[0m\u001b[0mscan\u001b[0m\u001b[0;34m[\u001b[0m\u001b[0mi\u001b[0m\u001b[0;34m,\u001b[0m \u001b[0mj\u001b[0m\u001b[0;34m]\u001b[0m\u001b[0;34m)\u001b[0m\u001b[0;34m\u001b[0m\u001b[0m\n\u001b[0m\u001b[1;32m     24\u001b[0m \u001b[0;34m\u001b[0m\u001b[0m\n\u001b[1;32m     25\u001b[0m \u001b[0;34m\u001b[0m\u001b[0m\n",
      "\u001b[0;32m<ipython-input-3-b40712d1122e>\u001b[0m in \u001b[0;36mpixel_classifier_pixel\u001b[0;34m(pixel)\u001b[0m\n\u001b[1;32m     44\u001b[0m                 \u001b[0;32mpass\u001b[0m\u001b[0;34m\u001b[0m\u001b[0m\n\u001b[1;32m     45\u001b[0m \u001b[0;34m\u001b[0m\u001b[0m\n\u001b[0;32m---> 46\u001b[0;31m             \u001b[0;32mif\u001b[0m \u001b[0mpixel\u001b[0m\u001b[0;34m[\u001b[0m\u001b[0;36m4\u001b[0m\u001b[0;34m]\u001b[0m \u001b[0;34m>=\u001b[0m \u001b[0mstif_cut\u001b[0m\u001b[0;34m:\u001b[0m\u001b[0;34m\u001b[0m\u001b[0m\n\u001b[0m\u001b[1;32m     47\u001b[0m                 \u001b[0mcrystalline_count\u001b[0m \u001b[0;34m+=\u001b[0m \u001b[0;36m1\u001b[0m\u001b[0;34m\u001b[0m\u001b[0m\n\u001b[1;32m     48\u001b[0m             \u001b[0;32melse\u001b[0m\u001b[0;34m:\u001b[0m\u001b[0;34m\u001b[0m\u001b[0m\n",
      "\u001b[0;31mKeyboardInterrupt\u001b[0m: "
     ]
    }
   ],
   "source": [
    "vecTest = np.vectorize(pixel_classifier_scan('10-10'))"
   ]
  },
  {
   "cell_type": "code",
   "execution_count": null,
   "metadata": {
    "collapsed": true
   },
   "outputs": [],
   "source": []
  }
 ],
 "metadata": {
  "anaconda-cloud": {},
  "kernelspec": {
   "display_name": "Python [conda root]",
   "language": "python",
   "name": "conda-root-py"
  },
  "language_info": {
   "codemirror_mode": {
    "name": "ipython",
    "version": 3
   },
   "file_extension": ".py",
   "mimetype": "text/x-python",
   "name": "python",
   "nbconvert_exporter": "python",
   "pygments_lexer": "ipython3",
   "version": "3.5.2"
  }
 },
 "nbformat": 4,
 "nbformat_minor": 2
}
