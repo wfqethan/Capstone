{
 "cells": [
  {
   "cell_type": "code",
   "execution_count": 1,
   "metadata": {
    "collapsed": true
   },
   "outputs": [],
   "source": [
    "import numpy as np\n",
    "import pandas as pd"
   ]
  },
  {
   "cell_type": "code",
   "execution_count": 4,
   "metadata": {
    "collapsed": true
   },
   "outputs": [],
   "source": [
    "def data_aggregator(sampleName):\n",
    "    \"\"\"\n",
    "    This function takes in a sample name and parses through the files containing cleaned .txt files pertaining to the\n",
    "    sample. It then combines the separate 2D scan arrays as a single 3D array, which it returns. Finally, it writes\n",
    "    this 3D array to a new file as a 2D array of the pixels (x) and their z info (y).\n",
    "    \n",
    "    inputs: a string variable of the sample's identification\n",
    "    \n",
    "    outputs: the 3D array containing the aggregated data\n",
    "        *writes a new file in the directory corresponding to aggregated data\n",
    "    \"\"\"\n",
    "    \n",
    "    adh = np.genfromtxt('../Data/AFM/CleanedTXT/Adhesion/%s.txt'% (sampleName))\n",
    "    defor = np.genfromtxt('../Data/AFM/CleanedTXT/Deformation/%s.txt'% (sampleName))\n",
    "    dis = np.genfromtxt('../Data/AFM/CleanedTXT/Dissipation/%s.txt'% (sampleName))\n",
    "    modul = np.genfromtxt('../Data/AFM/CleanedTXT/LogDMTModulus/%s.txt'% (sampleName))\n",
    "    stif = np.genfromtxt('../Data/AFM/CleanedTXT/Stiffness/%s.txt'% (sampleName))\n",
    "\n",
    "    x, y = adh.shape\n",
    "    z = 5\n",
    "    \n",
    "    aggr = np.ndarray([x, y, z])\n",
    "    \n",
    "    for i in range(x):\n",
    "        for j in range(y):\n",
    "            aggr[i, j, 0] = adh[i, j]\n",
    "\n",
    "    for i in range(x):\n",
    "        for j in range(y):\n",
    "            aggr[i, j, 1] = defor[i, j]\n",
    "\n",
    "    for i in range(x):\n",
    "        for j in range(y):\n",
    "            aggr[i, j, 2] = dis[i, j]\n",
    "\n",
    "    for i in range(x):\n",
    "        for j in range(y):\n",
    "            aggr[i, j, 3] = modul[i, j]\n",
    "\n",
    "    for i in range(x):\n",
    "        for j in range(y):\n",
    "            aggr[i, j, 4] = stif[i, j]\n",
    "            \n",
    "    two_dim_aggr = aggr.reshape((x*y), z)\n",
    "            \n",
    "    np.savetxt('../Data/AFM/AggregatedData/%s.txt'%(sampleName), two_dim_aggr) \n",
    "    \n",
    "    return"
   ]
  },
  {
   "cell_type": "code",
   "execution_count": 43,
   "metadata": {
    "collapsed": false
   },
   "outputs": [],
   "source": [
    "data_aggregator('20-5')"
   ]
  },
  {
   "cell_type": "code",
   "execution_count": null,
   "metadata": {
    "collapsed": true
   },
   "outputs": [],
   "source": [
    "adh = np.genfromtxt('../Data/AFM/CleanedTXT/Adhesion/Control.txt')\n",
    "defor = np.genfromtxt('../Data/AFM/CleanedTXT/Deformation/Control.txt')\n",
    "dis = np.genfromtxt('../Data/AFM/CleanedTXT/Dissipation/Control.txt')\n",
    "modul = np.genfromtxt('../Data/AFM/CleanedTXT/LogDMTModulus/Control.txt')\n",
    "stif = np.genfromtxt('../Data/AFM/CleanedTXT/Stiffness/Control.txt')"
   ]
  },
  {
   "cell_type": "code",
   "execution_count": null,
   "metadata": {
    "collapsed": false
   },
   "outputs": [],
   "source": [
    "test1 = np.loadtxt('../Data/AFM/AggregatedData/Control.txt')\n",
    "print (test1.shape)"
   ]
  },
  {
   "cell_type": "code",
   "execution_count": null,
   "metadata": {
    "collapsed": false
   },
   "outputs": [],
   "source": [
    "test2 = test1.reshape(x, y, z)\n",
    "print (test2.shape)\n",
    "print (test2)"
   ]
  },
  {
   "cell_type": "code",
   "execution_count": null,
   "metadata": {
    "collapsed": false
   },
   "outputs": [],
   "source": [
    "x, y = adh.shape\n",
    "z = 5\n",
    "\n",
    "print (x)\n",
    "print (y)\n",
    "print (z)"
   ]
  },
  {
   "cell_type": "code",
   "execution_count": null,
   "metadata": {
    "collapsed": false
   },
   "outputs": [],
   "source": [
    "aggr = np.ndarray([x, y, z])"
   ]
  },
  {
   "cell_type": "code",
   "execution_count": null,
   "metadata": {
    "collapsed": true
   },
   "outputs": [],
   "source": [
    "for i in range(x):\n",
    "    for j in range(y):\n",
    "        aggr[i, j, 0] = adh[i, j]\n",
    "        \n",
    "for i in range(x):\n",
    "    for j in range(y):\n",
    "        aggr[i, j, 1] = defor[i, j]\n",
    "        \n",
    "for i in range(x):\n",
    "    for j in range(y):\n",
    "        aggr[i, j, 2] = dis[i, j]\n",
    "        \n",
    "for i in range(x):\n",
    "    for j in range(y):\n",
    "        aggr[i, j, 3] = modul[i, j]\n",
    "        \n",
    "for i in range(x):\n",
    "    for j in range(y):\n",
    "        aggr[i, j, 4] = stif[i, j]"
   ]
  },
  {
   "cell_type": "code",
   "execution_count": null,
   "metadata": {
    "collapsed": false,
    "scrolled": true
   },
   "outputs": [],
   "source": [
    "print (aggr)"
   ]
  },
  {
   "cell_type": "code",
   "execution_count": null,
   "metadata": {
    "collapsed": false,
    "scrolled": true
   },
   "outputs": [],
   "source": [
    "test = aggr.reshape((x*y), z)"
   ]
  },
  {
   "cell_type": "code",
   "execution_count": null,
   "metadata": {
    "collapsed": false
   },
   "outputs": [],
   "source": [
    "print (test.shape)"
   ]
  },
  {
   "cell_type": "code",
   "execution_count": null,
   "metadata": {
    "collapsed": false
   },
   "outputs": [],
   "source": [
    "np.savetxt('../Data/AFM/AggregatedData/Control.txt', test)"
   ]
  },
  {
   "cell_type": "markdown",
   "metadata": {
    "collapsed": true
   },
   "source": [
    "<hr/>\n",
    "### functions needed:  Bold = complete. Function name at end of description\n",
    "`check_size` : check if the size of the input is equal to 768x768, if not add the missing rows/colns using the mean value \n",
    "\n",
    "`check_missing_pixels`: check if there is NaN value and add the missing pixels using the mean value\n",
    "\n",
    "**`aggregate`: aggregate all types of data(dissipation, LogModulus, Stifffness, deformation, adhesion)into one pixel**\n",
    "\n",
    "**`aggregate_all`: a wrapper functions that call `aggregate` and agrregate all the data and store them**\n",
    "\n",
    "`normalize`: normalize the data based on the maximum vlaue without changing the original data set\n",
    "\n",
    "`reduce_dimension`: Use principal component analysis (PCA) to reduce the dimensionality of each pixel\n",
    "\n",
    "`reduce_all_dimension`: a wrapper funciton that call `reduce_dimension` recursively to reduce the dimension of all pixels of a image\n",
    "\n",
    "`draw_reduce_dimension`: plot image after PCA anaysis (CMYK)\n",
    "\n",
    "`get_info_from_neighbors`: compare value at a single pixel to its neighbors\n",
    "\n",
    "`neighbors_info`: a wrapper function that call `get_info_from_neighbors` recursively to gather informaiton for the whole image(excluding edge pixels)\n",
    "\n",
    "**`euclidean_distance`: a function that calculates the euclidean distance between two pixels**\n",
    "\n",
    "`classify_pixel`: determine whether a pixel is crystalline or not based on the control value(lower bound) and crystalline value(upper bound)\n",
    "\n",
    "`classify_image`: a wrapper function that call `classify_pixel` recursively to classify the whole image\n",
    "\n",
    "`draw_classified_image`: visualize the classified data\n",
    "\n",
    "`euclidean_classifier`: a function that considers the normalized euclidean distance in its classification\n",
    "\n",
    "`neighbor_identity_classifier`: a function that considers the classification of its neighbors in its classification\n",
    "\n"
   ]
  },
  {
   "cell_type": "markdown",
   "metadata": {
    "collapsed": true
   },
   "source": [
    "## List of Functions and Descriptions##\n",
    "\n",
    "   `data_aggregator`: This function takes in a sample name and parses through the files containing cleaned .txt files pertaining to thesample. It then combines the separate 2D scan arrays as a single 3D array. Finally, it writes this 3D array to a new file.\n",
    "   \n",
    "   `find_maxes`: This function takes in a 3D array of intensity values for pixels in an AFM micrograph and returns the maximum value for each of the scan types as a vector\n",
    "   \n",
    "   `euclidean_distance`: This function takes in a vector of maximum values for the sample's different data types and two pixels as vectors of their features and calculates the Euclidean distance. It then normalizes these differences for each scan type so there isn't uneven weighting for a given feature type. Finally, it returns the adjusted Euclidean distance.\n",
    "   \n",
    "   `neighbor_locator`: This function takes in the xy location of a pixel in a 3D array of information and locates its neighbors, returning these locations as a 2D array of 8 different xy coordinates."
   ]
  },
  {
   "cell_type": "code",
   "execution_count": null,
   "metadata": {
    "collapsed": true
   },
   "outputs": [],
   "source": []
  }
 ],
 "metadata": {
  "anaconda-cloud": {},
  "kernelspec": {
   "display_name": "Python [default]",
   "language": "python",
   "name": "python3"
  },
  "language_info": {
   "codemirror_mode": {
    "name": "ipython",
    "version": 3
   },
   "file_extension": ".py",
   "mimetype": "text/x-python",
   "name": "python",
   "nbconvert_exporter": "python",
   "pygments_lexer": "ipython3",
   "version": "3.5.2"
  }
 },
 "nbformat": 4,
 "nbformat_minor": 2
}
