{
 "cells": [
  {
   "cell_type": "code",
   "execution_count": 1,
   "metadata": {
    "collapsed": true
   },
   "outputs": [],
   "source": [
    "import random\n",
    "import math\n",
    "\n",
    "import numpy as np\n",
    "import matplotlib.pyplot as plt\n",
    "%matplotlib inline"
   ]
  },
  {
   "cell_type": "code",
   "execution_count": 2,
   "metadata": {
    "collapsed": true
   },
   "outputs": [],
   "source": [
    "def pixel_classifier_pixel(pixel):\n",
    "    \"\"\"\n",
    "    This function takes in a 1D array of AFM data from a single scan. It iterates through each xy location and\n",
    "    classifies that pixel as either crystalline or amorphous, depending on its z values.\n",
    "    \n",
    "    inputs: pixel - a 1D array of AFM data for each pixel\n",
    "    \n",
    "    outputs: classified_pixel - an integer that contains the pixel's identity, 1 denotes crystalline, -1 denotes\n",
    "                    amorphous.\n",
    "    \"\"\"\n",
    "    \n",
    "    adh_cut = 0.033 #greater than 33 mV\n",
    "    def_cut = 0.0000000026 #less than 2.6 nm\n",
    "    dis_cut = 0.033 #greater than 33 mV\n",
    "    mod_cut = -0.03 #greater than -0.03 V\n",
    "    stif_cut = 0.01 #greater than 0.01 V \n",
    "    \n",
    "    classified_pixel = 0\n",
    "    \n",
    "    crystalline_count = 0\n",
    "\n",
    "    if pixel[0] >= adh_cut:\n",
    "        crystalline_count += 1\n",
    "    else:\n",
    "        pass\n",
    "\n",
    "    if pixel[1] <= def_cut:\n",
    "        crystalline_count += 1\n",
    "    else:\n",
    "        pass\n",
    "\n",
    "    if pixel[2] >= dis_cut:\n",
    "        crystalline_count += 1\n",
    "    else:\n",
    "        pass\n",
    "\n",
    "    if pixel[3] >= mod_cut:\n",
    "        crystalline_count += 1\n",
    "    else:\n",
    "        pass\n",
    "\n",
    "    if pixel[4] >= stif_cut:\n",
    "        crystalline_count += 1\n",
    "    else:\n",
    "        pass\n",
    "\n",
    "    if crystalline_count >= 3:\n",
    "        classified_pixel = 1\n",
    "    else:\n",
    "        classified_pixel = -1\n",
    "    \n",
    "    return classified_pixel"
   ]
  },
  {
   "cell_type": "code",
   "execution_count": 3,
   "metadata": {
    "collapsed": true
   },
   "outputs": [],
   "source": [
    "def neighbor_locater(x, y):\n",
    "    \"\"\"\n",
    "    This function takes in the xy location of a pixel in a 3D array of information and locates its neighbors, \n",
    "    returning these locations as a 2D array of 8 different xy coordinates.\n",
    "    \n",
    "    input: x - The row of pixels that contains the pixel in question\n",
    "           y - The column of pixels that contains the pixel in question\n",
    "    \n",
    "    output: neighbors - a 2D array containing the xy location of the 8 nearest neighbors\n",
    "    \"\"\"\n",
    "    \n",
    "    neighbors = np.empty([8, 2])\n",
    "    \n",
    "    neighbors[0, 0] = x - 1\n",
    "    neighbors[0, 1] = y - 1\n",
    "    \n",
    "    neighbors[1, 0] = x - 1\n",
    "    neighbors[1, 1] = y\n",
    "    \n",
    "    neighbors[2, 0] = x - 1\n",
    "    neighbors[2, 1] = y + 1\n",
    "    \n",
    "    neighbors[3, 0] = x\n",
    "    neighbors[3, 1] = y - 1\n",
    "    \n",
    "    neighbors[4, 0] = x\n",
    "    neighbors[4, 1] = y + 1\n",
    "    \n",
    "    neighbors[5, 0] = x + 1\n",
    "    neighbors[5, 1] = y - 1\n",
    "    \n",
    "    neighbors[6, 0] = x + 1\n",
    "    neighbors[6, 1] = y\n",
    "    \n",
    "    neighbors[7, 0] = x + 1\n",
    "    neighbors[7, 1] = y + 1\n",
    "    \n",
    "    return neighbors"
   ]
  },
  {
   "cell_type": "code",
   "execution_count": 4,
   "metadata": {
    "collapsed": true
   },
   "outputs": [],
   "source": [
    "def neighbor_properties(scan, neighbors):\n",
    "    \"\"\"\n",
    "    This function takes in a 3D np.ndarray of AFM data and a 2D np.array of pixel xy locations. These pixels are the\n",
    "    8 neighbors of a given pixel. It returns a 3D np.ndarray of the 8 neighbors' AFM values\n",
    "    \n",
    "    inputs: scan - a 3D np.ndarray with 5 mechanical properties and classifications (1 or more) of an xy array of\n",
    "                    pixels.\n",
    "            neighbors - a 2D np.array of the xy locations of pixels surrounding a given pixel\n",
    "            \n",
    "    outputs: neighbor_props - a 2D np.array of the mechanical properties and classifications of a given pixel's\n",
    "                    8 neighboring pixels\n",
    "    \"\"\"\n",
    "    x, y, _ = scan.shape\n",
    "    \n",
    "    z = 5\n",
    "    \n",
    "    neighbor_props = np.empty([8, z])\n",
    "    \n",
    "    for i in range(8):\n",
    "        xx, yy = neighbors[i]\n",
    "        xx = int(xx)\n",
    "        yy = int(yy)\n",
    "        for j in range(z):\n",
    "            neighbor_props[i, j] = scan[xx, yy, j]\n",
    "    \n",
    "    return neighbor_props"
   ]
  },
  {
   "cell_type": "code",
   "execution_count": 157,
   "metadata": {
    "collapsed": false
   },
   "outputs": [],
   "source": [
    "def iterative_classifier_wrapper(sampleName):\n",
    "    \"\"\"\n",
    "    This function starts with the PixelClassifier model's classifications, then randomly walks from pixel-to-pixel to\n",
    "    compare each pixel to its neighbors, using that to update the classification. It then compares the new set of\n",
    "    classifications to the old classifications. If they differ by more than a negligible amount, the process starts\n",
    "    again until the differences are within a tolerance.\n",
    "    \n",
    "    inputs: sampleName - a string with the name of the sample, excluding the filetype extension, which is assumed to\n",
    "                    be .txt\n",
    "            \n",
    "    outputs: new_classifications - a 2D array with the final identities of the pixels\n",
    "                *writes a new file to computer harddrive\n",
    "    \"\"\"\n",
    "    \n",
    "    scan = np.loadtxt('../Data/AFM/AggregatedData/ClassificationTest/%s.txt'% (sampleName))\n",
    "    \n",
    "    x2, z = scan.shape\n",
    "    x = y = int(math.sqrt(x2))\n",
    "    scan = scan.reshape((x, y, z))\n",
    "    \n",
    "    classifications = np.empty([x, y])\n",
    "    new_classifications = np.empty([x, y])\n",
    "    \n",
    "    if z == 5:           #If there has been no prior single pixel classifications, this initializes those values\n",
    "        for i in range(x):\n",
    "            for j in range(y):\n",
    "                classifications[i, j] = pixel_classifier_pixel(scan[i, j, 5])         \n",
    "    else:\n",
    "        for i in range(x): #initialize the classifications to the PixelClassifier identities\n",
    "            for j in range(y):\n",
    "                classifications[i, j] = scan[i, j, 5]\n",
    "        \n",
    "    coords = [(xx,yy) for xx in range(1, x-1) for yy in range(1, y-1)] #generate a list of all coordinate pairs\n",
    "    \n",
    "    pcnt_diff = 1 \n",
    "    \n",
    "    while True:  #while there is more than a 20% difference b/w old & new classifications, keep iterating\n",
    "        new_classifications, pcnt_diff = iterative_classifier_comparison(classifications, coords)\n",
    "        print ('Percent Difference: ', pcnt_diff)\n",
    "        if pcnt_diff <= 0.2:\n",
    "            break\n",
    "    \n",
    "    if z <= 6:\n",
    "        scan = scan.reshape((x2, z))\n",
    "        pixel_identities_1d = pixel_identities.reshape((x2, 1))\n",
    "        \n",
    "        scan_and_classif = np.append(scan, pixel_identities_1d, axis = 1)\n",
    "        np.savetxt('../Data/AFM/AggregatedData/ClassificationTest/%s.txt'%(sampleName), scan_and_classif) \n",
    "\n",
    "    else:\n",
    "        for i in range(x):\n",
    "            for j in range(y):\n",
    "                scan[i, j, 7] = pixel_identities[i, j]\n",
    "        scan = scan.reshape((x2, z))\n",
    "        np.savetxt('../Data/AFM/AggregatedData/ClassificationTest/%s.txt'%(sampleName), scan) \n",
    "    \n",
    "    return new_classifications"
   ]
  },
  {
   "cell_type": "code",
   "execution_count": 161,
   "metadata": {
    "collapsed": false
   },
   "outputs": [],
   "source": [
    "def iterative_classifier_comparison(classifications, coords):\n",
    "    \"\"\"\n",
    "    This function takes in two 2D arrays of classifications for a given AFM scan. It iterates through classifications,\n",
    "    populates new_classifications based on the neighbor identities and compares the two arrays.\n",
    "    \n",
    "    inputs: classifications - a 2D np.array of the existing classifications (-1/1 = amorphous/xtal) for each pixel\n",
    "            coords - a list of all of the possible coordinate pairs\n",
    "            \n",
    "    outputs: new_classifications - a 2D np.array of the new classifications for each pixel\n",
    "             pcnt_diff - the percentage of pixels in the scan that have different classifications between the old\n",
    "                         classifications and the new classifications\n",
    "    \"\"\"\n",
    "    random.shuffle(coords) #randomly mix up the pairs of coordinates\n",
    "    \n",
    "    x, y = classifications.shape\n",
    "    \n",
    "    coord_iterator = 0\n",
    "    coord_array = np.empty([x-2, y-2, 2])\n",
    "    \n",
    "    for i in range(x-2):    #put the coordinate pairs into 2D array\n",
    "        for j in range(y-2):\n",
    "            xcoord, ycoord = coords[coord_iterator]\n",
    "            coord_iterator += 1\n",
    "            coord_array[i, j, 0] = xcoord\n",
    "            coord_array[i, j, 1] = ycoord\n",
    "    \n",
    "    new_classifications = np.empty([x, y])\n",
    "    neighbor_classes = np.empty([8])\n",
    "    \n",
    "    for i in range(x-2):\n",
    "        for j in range(y-2):\n",
    "            neighbors = neighbor_locater(coord_array[i, j, 0], coord_array[i, j, 1])\n",
    "            pixel_class = classifications[i, j]\n",
    "        \n",
    "            for k in range(8):\n",
    "                neighborx, neighbory = neighbors[k]\n",
    "                neighborx = int(neighborx)\n",
    "                neighbory = int(neighbory)\n",
    "                neighbor_classes[k] = classifications[neighborx, neighbory]\n",
    "\n",
    "            new_classifications[i, j] = iterative_classifier_assignment(pixel_class, neighbor_classes)\n",
    "        \n",
    "    num_diff_pixels = 0\n",
    "    \n",
    "    for i in range(x):\n",
    "        for j in range(y):\n",
    "            if new_classifications[i, j] == classifications[i, j]:\n",
    "                pass\n",
    "            else:\n",
    "                    num_diff_pixels += 1\n",
    "    \n",
    "    pcnt_diff = num_diff_pixels / (x * y)\n",
    "    \n",
    "    return new_classifications, pcnt_diff"
   ]
  },
  {
   "cell_type": "code",
   "execution_count": 162,
   "metadata": {
    "collapsed": true
   },
   "outputs": [],
   "source": [
    "def iterative_classifier_assignment(pixel_class, neighbor_classes):\n",
    "    \"\"\"\n",
    "    This function takes in the classifications of a pixel and its neighbors, then reclassifies the pixel taking into\n",
    "    account the classes of its neighbors.\n",
    "    \n",
    "    inputs: pixel_class - an int that holds the initial identity of the pixel\n",
    "            neighbor_classes - a 1D array that holds the identities of the pixel's neighbors\n",
    "    \n",
    "    outputs: new_pixel_class - the new identity of the pixel\n",
    "    \"\"\"\n",
    "    amorphous = 0\n",
    "    crystalline = 0\n",
    "    \n",
    "    for i in range(8):\n",
    "        if neighbor_classes[i] == 1:\n",
    "            crystalline += 1\n",
    "        else:\n",
    "            amorphous += 1\n",
    "    \n",
    "    if crystalline > 5:\n",
    "        new_pixel_class = 1\n",
    "    elif amorphous > 5:\n",
    "        new_pixel_class = -1\n",
    "    else:\n",
    "        new_pixel_class = pixel_class\n",
    "    \n",
    "    return new_pixel_class"
   ]
  },
  {
   "cell_type": "code",
   "execution_count": 163,
   "metadata": {
    "collapsed": false
   },
   "outputs": [
    {
     "name": "stdout",
     "output_type": "stream",
     "text": [
      "Percent Difference:  0.22132703993055555\n",
      "Percent Difference:  0.2227715386284722\n",
      "Percent Difference:  0.2208065456814236\n",
      "Percent Difference:  0.2217475043402778\n",
      "Percent Difference:  0.22184583875868055\n"
     ]
    },
    {
     "ename": "KeyboardInterrupt",
     "evalue": "",
     "output_type": "error",
     "traceback": [
      "\u001b[0;31m---------------------------------------------------------------------------\u001b[0m",
      "\u001b[0;31mKeyboardInterrupt\u001b[0m                         Traceback (most recent call last)",
      "\u001b[0;32m<ipython-input-163-cc8626eee2e7>\u001b[0m in \u001b[0;36m<module>\u001b[0;34m()\u001b[0m\n\u001b[0;32m----> 1\u001b[0;31m \u001b[0mtest\u001b[0m \u001b[0;34m=\u001b[0m \u001b[0miterative_classifier_wrapper\u001b[0m\u001b[0;34m(\u001b[0m\u001b[0;34m'10-10'\u001b[0m\u001b[0;34m)\u001b[0m\u001b[0;34m\u001b[0m\u001b[0m\n\u001b[0m",
      "\u001b[0;32m<ipython-input-157-a447fdca1194>\u001b[0m in \u001b[0;36miterative_classifier_wrapper\u001b[0;34m(sampleName)\u001b[0m\n\u001b[1;32m     36\u001b[0m \u001b[0;34m\u001b[0m\u001b[0m\n\u001b[1;32m     37\u001b[0m     \u001b[0;32mwhile\u001b[0m \u001b[0;32mTrue\u001b[0m\u001b[0;34m:\u001b[0m  \u001b[0;31m#while there is more than a 20% difference b/w old & new classifications, keep iterating\u001b[0m\u001b[0;34m\u001b[0m\u001b[0m\n\u001b[0;32m---> 38\u001b[0;31m         \u001b[0mnew_classifications\u001b[0m\u001b[0;34m,\u001b[0m \u001b[0mpcnt_diff\u001b[0m \u001b[0;34m=\u001b[0m \u001b[0miterative_classifier_comparison\u001b[0m\u001b[0;34m(\u001b[0m\u001b[0mclassifications\u001b[0m\u001b[0;34m,\u001b[0m \u001b[0mcoords\u001b[0m\u001b[0;34m)\u001b[0m\u001b[0;34m\u001b[0m\u001b[0m\n\u001b[0m\u001b[1;32m     39\u001b[0m         \u001b[0mprint\u001b[0m \u001b[0;34m(\u001b[0m\u001b[0;34m'Percent Difference: '\u001b[0m\u001b[0;34m,\u001b[0m \u001b[0mpcnt_diff\u001b[0m\u001b[0;34m)\u001b[0m\u001b[0;34m\u001b[0m\u001b[0m\n\u001b[1;32m     40\u001b[0m         \u001b[0;32mif\u001b[0m \u001b[0mpcnt_diff\u001b[0m \u001b[0;34m<=\u001b[0m \u001b[0;36m0.2\u001b[0m\u001b[0;34m:\u001b[0m\u001b[0;34m\u001b[0m\u001b[0m\n",
      "\u001b[0;32m<ipython-input-161-252163c89bdb>\u001b[0m in \u001b[0;36miterative_classifier_comparison\u001b[0;34m(classifications, coords)\u001b[0m\n\u001b[1;32m     34\u001b[0m \u001b[0;34m\u001b[0m\u001b[0m\n\u001b[1;32m     35\u001b[0m             \u001b[0;32mfor\u001b[0m \u001b[0mk\u001b[0m \u001b[0;32min\u001b[0m \u001b[0mrange\u001b[0m\u001b[0;34m(\u001b[0m\u001b[0;36m8\u001b[0m\u001b[0;34m)\u001b[0m\u001b[0;34m:\u001b[0m\u001b[0;34m\u001b[0m\u001b[0m\n\u001b[0;32m---> 36\u001b[0;31m                 \u001b[0mneighborx\u001b[0m\u001b[0;34m,\u001b[0m \u001b[0mneighbory\u001b[0m \u001b[0;34m=\u001b[0m \u001b[0mneighbors\u001b[0m\u001b[0;34m[\u001b[0m\u001b[0mk\u001b[0m\u001b[0;34m]\u001b[0m\u001b[0;34m\u001b[0m\u001b[0m\n\u001b[0m\u001b[1;32m     37\u001b[0m                 \u001b[0mneighborx\u001b[0m \u001b[0;34m=\u001b[0m \u001b[0mint\u001b[0m\u001b[0;34m(\u001b[0m\u001b[0mneighborx\u001b[0m\u001b[0;34m)\u001b[0m\u001b[0;34m\u001b[0m\u001b[0m\n\u001b[1;32m     38\u001b[0m                 \u001b[0mneighbory\u001b[0m \u001b[0;34m=\u001b[0m \u001b[0mint\u001b[0m\u001b[0;34m(\u001b[0m\u001b[0mneighbory\u001b[0m\u001b[0;34m)\u001b[0m\u001b[0;34m\u001b[0m\u001b[0m\n",
      "\u001b[0;31mKeyboardInterrupt\u001b[0m: "
     ]
    }
   ],
   "source": [
    "test = iterative_classifier_wrapper('10-10')"
   ]
  },
  {
   "cell_type": "code",
   "execution_count": 152,
   "metadata": {
    "collapsed": false
   },
   "outputs": [],
   "source": [
    "x = y = 768\n",
    "coords = [(xx,yy) for xx in range(1, x-1) for yy in range(1, y-1)]\n",
    "np.random.shuffle(coords)"
   ]
  },
  {
   "cell_type": "code",
   "execution_count": 153,
   "metadata": {
    "collapsed": false
   },
   "outputs": [],
   "source": [
    "coord_iterator = 0\n",
    "coord_array = np.empty([x-2, y-2, 2])\n",
    "\n",
    "for i in range(x-2):\n",
    "    for j in range(y-2):\n",
    "        xcoord, ycoord = coords[coord_iterator]\n",
    "        coord_iterator += 1\n",
    "        coord_array[i, j, 0] = xcoord\n",
    "        coord_array[i, j, 1] = ycoord"
   ]
  },
  {
   "cell_type": "code",
   "execution_count": 154,
   "metadata": {
    "collapsed": false
   },
   "outputs": [
    {
     "name": "stdout",
     "output_type": "stream",
     "text": [
      "[[[ 553.  566.]\n",
      "  [ 488.  250.]\n",
      "  [ 126.  759.]\n",
      "  ..., \n",
      "  [ 644.  560.]\n",
      "  [ 507.   79.]\n",
      "  [  63.  699.]]\n",
      "\n",
      " [[ 486.  584.]\n",
      "  [ 607.  112.]\n",
      "  [  94.  164.]\n",
      "  ..., \n",
      "  [ 731.  658.]\n",
      "  [ 503.  138.]\n",
      "  [ 591.  365.]]\n",
      "\n",
      " [[ 625.  510.]\n",
      "  [ 547.  309.]\n",
      "  [ 638.  291.]\n",
      "  ..., \n",
      "  [ 252.  650.]\n",
      "  [ 226.  642.]\n",
      "  [ 244.  146.]]\n",
      "\n",
      " ..., \n",
      " [[ 629.  141.]\n",
      "  [ 607.  182.]\n",
      "  [ 215.  514.]\n",
      "  ..., \n",
      "  [  66.   25.]\n",
      "  [  65.  539.]\n",
      "  [ 685.  728.]]\n",
      "\n",
      " [[ 547.  212.]\n",
      "  [ 517.  628.]\n",
      "  [ 527.  328.]\n",
      "  ..., \n",
      "  [ 537.  309.]\n",
      "  [ 195.  326.]\n",
      "  [ 140.  296.]]\n",
      "\n",
      " [[ 283.   24.]\n",
      "  [ 160.  583.]\n",
      "  [  39.  706.]\n",
      "  ..., \n",
      "  [ 331.   47.]\n",
      "  [ 469.  153.]\n",
      "  [ 679.   40.]]]\n"
     ]
    }
   ],
   "source": [
    "print (coord_array)"
   ]
  },
  {
   "cell_type": "code",
   "execution_count": 156,
   "metadata": {
    "collapsed": false
   },
   "outputs": [
    {
     "name": "stdout",
     "output_type": "stream",
     "text": [
      "(766, 766, 2)\n"
     ]
    }
   ],
   "source": [
    "print (coord_array.shape)"
   ]
  },
  {
   "cell_type": "code",
   "execution_count": 155,
   "metadata": {
    "collapsed": false
   },
   "outputs": [
    {
     "data": {
      "text/plain": [
       "766.0"
      ]
     },
     "execution_count": 155,
     "metadata": {},
     "output_type": "execute_result"
    }
   ],
   "source": [
    "math.sqrt(586756)"
   ]
  },
  {
   "cell_type": "code",
   "execution_count": null,
   "metadata": {
    "collapsed": true
   },
   "outputs": [],
   "source": []
  }
 ],
 "metadata": {
  "anaconda-cloud": {},
  "kernelspec": {
   "display_name": "Python [conda root]",
   "language": "python",
   "name": "conda-root-py"
  },
  "language_info": {
   "codemirror_mode": {
    "name": "ipython",
    "version": 3
   },
   "file_extension": ".py",
   "mimetype": "text/x-python",
   "name": "python",
   "nbconvert_exporter": "python",
   "pygments_lexer": "ipython3",
   "version": "3.5.2"
  }
 },
 "nbformat": 4,
 "nbformat_minor": 2
}
