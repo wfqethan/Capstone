{
 "cells": [
  {
   "cell_type": "code",
   "execution_count": 1,
   "metadata": {
    "collapsed": true
   },
   "outputs": [],
   "source": [
    "import math\n",
    "import numpy as np\n",
    "import matplotlib.pyplot as plt\n",
    "%matplotlib inline"
   ]
  },
  {
   "cell_type": "code",
   "execution_count": null,
   "metadata": {
    "collapsed": true
   },
   "outputs": [],
   "source": [
    "def iterative_classifier(sampleName):\n",
    "    \"\"\"\n",
    "    This function starts with the PixelClassifier model's classifications, then randomly walks from pixel-to-pixel to\n",
    "    compare each pixel to its neighbors, using that to update the classification. It then compares the new set of\n",
    "    classifications to the old classifications. If they differ by more than a negligible amount, the process starts\n",
    "    again until the differences are within a tolerance.\n",
    "    \n",
    "    inputs: sampleName - a string with the name of the sample, excluding the filetype extension, which is assumed to\n",
    "                    be .txt\n",
    "            ;sdjfos;dnf\n",
    "            \n",
    "    outputs:\n",
    "    \"\"\"\n",
    "    \n",
    "    scan = np.loadtxt('../Data/AFM/AggregatedData/%s.txt'% (sampleName))\n",
    "    \n",
    "    x2, z = scan.shape\n",
    "    x = y = int(math.sqrt(x2))\n",
    "    scan = scan.reshape((x, y, z))\n",
    "    \n",
    "    for i in range(x):         #initialize the classifications to the PixelClassifier identities\n",
    "        for j in range(y):\n",
    "            classifications[i, j] = scan[i, j, 5]\n",
    "            \n",
    "    "
   ]
  }
 ],
 "metadata": {
  "anaconda-cloud": {},
  "kernelspec": {
   "display_name": "Python [conda root]",
   "language": "python",
   "name": "conda-root-py"
  },
  "language_info": {
   "codemirror_mode": {
    "name": "ipython",
    "version": 3
   },
   "file_extension": ".py",
   "mimetype": "text/x-python",
   "name": "python",
   "nbconvert_exporter": "python",
   "pygments_lexer": "ipython3",
   "version": "3.5.2"
  }
 },
 "nbformat": 4,
 "nbformat_minor": 2
}
