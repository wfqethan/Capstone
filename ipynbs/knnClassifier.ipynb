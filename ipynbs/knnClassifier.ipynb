{
 "cells": [
  {
   "cell_type": "code",
   "execution_count": 1,
   "metadata": {
    "collapsed": true
   },
   "outputs": [],
   "source": [
    "import math\n",
    "\n",
    "import pandas as pd\n",
    "import numpy as np"
   ]
  },
  {
   "cell_type": "code",
   "execution_count": null,
   "metadata": {
    "collapsed": true
   },
   "outputs": [],
   "source": [
    "def euc_dist(vec1, vec2):\n",
    "    \"\"\"\n",
    "    This function takes in two pixels as vectors of their features, calculates and returns the Euclidean distance.\n",
    "    \"\"\"\n",
    "    pixel1 = vec1 #take the 5 pixel features as defining the vector\n",
    "    pixel2 = vec2\n",
    "    dist_sqrd = 0\n",
    "    dist_sqrd = ((a-b)**2 for a,b in zip(df1, df2)) #calculate the square of the euclidean distance\n",
    "    dist = math.sqrt(sum(dist_sqrd))\n",
    "    \n",
    "    return dist"
   ]
  },
  {
   "cell_type": "code",
   "execution_count": null,
   "metadata": {
    "collapsed": true
   },
   "outputs": [],
   "source": [
    "def neighbor_ident(database, inputdata):\n",
    "    \"\"\"Takes in a dataframe and locates each entry's k nearest neighbors in the archived database\"\"\"\n",
    "    \n",
    "    dist_matrix = pd.DataFrame() #initialize empty dataframe to hold the distance information\n",
    "    knns = pd.DataFrame() #initialize empty dataframe to hold the sorted nearest neighbors\n",
    "    \n",
    "    for index1, row1 in inputdata.iterrows(): #calculate euclidean distance and save it\n",
    "        for index2, row2 in database.iterrows():\n",
    "            dist_matrix.loc[index1, index2] = knn.euc_dist(row1, row2)\n",
    "        \n",
    "        knn_index1 = dist_matrix.loc[index1].sort_values() #sort the euclidean distances \n",
    "        sorted_neighbors = list(knn_index1.index) #the indexes refer to the neighbors, save these not their dist.\n",
    "        knns[index1] = sorted_neighbors\n",
    "\n",
    "    return knns"
   ]
  },
  {
   "cell_type": "code",
   "execution_count": null,
   "metadata": {
    "collapsed": true
   },
   "outputs": [],
   "source": [
    "def class_prediction(inputdata, database, k):\n",
    "    \"\"\"Takes in a test matrix, the training matrix, and user choice of k\n",
    "    then makes a class prediction and returns a series of these predictions\"\"\"\n",
    "    \n",
    "    k_neighbors = pd.DataFrame()\n",
    "    \n",
    "    for i in range(k):\n",
    "        k_neighbors = k_neighbors.append(knn.neighbor_ident(database, inputdata).loc[i])\n",
    "    \n",
    "    levels, labels = pd.factorize(database.Type) #Turns string type class titles and makes unique integers out of them\n",
    "    y = levels #index of the unique class integers\n",
    "\n",
    "    predictions = pd.Series(len(inputdata))\n",
    "    \n",
    "    for i in range(len(inputdata)): #Determine class of each of the k nearest neighbors\n",
    "        type1 = 0\n",
    "        type2 = 0\n",
    "        type3 = 0\n",
    "        \n",
    "        for j in range(k):\n",
    "            if y[k_neighbors[i][j]] == y[0]:\n",
    "                type1 += 1\n",
    "            elif y[k_neighbors[i][j]] == y[5]:\n",
    "                type2 += 1\n",
    "            elif y[k_neighbors[i][j]] == y[7]:\n",
    "                type3 += 1\n",
    "            else:\n",
    "                pass\n",
    "\n",
    "        type_count = {y[0]:type1, y[5]:type2, y[7]:type3} # Classify the testing point based on the majority type\n",
    "        predictions[i] = max(type_count, key=type_count.get)  # around it\n",
    "\n",
    "    return predictions"
   ]
  },
  {
   "cell_type": "code",
   "execution_count": null,
   "metadata": {
    "collapsed": true
   },
   "outputs": [],
   "source": [
    "def accuracy_check(k, inputdata):\n",
    "    \"\"\"Takes in a k value and testing dataframe. Compares the predicted types of the testing data\n",
    "        versus their actual types. Returns the number of correct guesses\"\"\"\n",
    "    \n",
    "    number_correct = 0\n",
    "    inputdata_classes = pd.Series(len(inputdata))\n",
    "    \n",
    "    for i in range(len(inputdata)): # Makes a series of the actual class types\n",
    "        if inputdata.loc[i][3] == 'PT':\n",
    "            inputdata_classes[i] = 0\n",
    "        elif inputdata.loc[i][3] == 'TM':\n",
    "            inputdata_classes[i] = 1\n",
    "        elif inputdata.loc[i][3] == 'Alk':\n",
    "            inputdata_classes[i] = 2\n",
    "        else:\n",
    "            pass\n",
    "    \n",
    "    for i in range(len(inputdata)): # Counts the number of predictions that are correct for a given k\n",
    "        if knn.class_prediction(inputdata, database, k)[i] == inputdata_classes[i]:\n",
    "            number_correct += 1\n",
    "        else:\n",
    "            pass\n",
    "        \n",
    "    return number_correct"
   ]
  },
  {
   "cell_type": "code",
   "execution_count": null,
   "metadata": {
    "collapsed": true
   },
   "outputs": [],
   "source": [
    "def k_choice(database, inputdata):\n",
    "    \"\"\"Takes in training data and testing data, then returns a dictionary\n",
    "        of possible k values and their number of correct predictions\"\"\"\n",
    "    \n",
    "    possible_k = {}\n",
    "    \n",
    "    for i in range (1, len(database)+1):\n",
    "        possible_k[i] = (knn.accuracy_check(i, inputdata)/len(inputdata))*100\n",
    "        \n",
    "    return"
   ]
  },
  {
   "cell_type": "code",
   "execution_count": null,
   "metadata": {
    "collapsed": true
   },
   "outputs": [],
   "source": [
    "def knn_interface(database, inputdata, k):\n",
    "    \"\"\"A function to handle user input and interface with the kNN functions.\"\"\"\n",
    "    \n",
    "    classifications = pd.Series(len(inputdata))\n",
    "    predictions = pd.Series(len(inputdata))\n",
    "    \n",
    "    for i in range(len(inputdata)):\n",
    "        predictions[i] = knn.class_prediction(inputdata, database, k)[i]\n",
    "        \n",
    "    for i in range(len(inputdata)):\n",
    "        if predictions[i] == 0:\n",
    "            classifications[i] = 'PT'\n",
    "        elif predictions[i]== 1:\n",
    "            classifications[i] = 'TM'\n",
    "        elif predictions[i] == 2:\n",
    "            classifications[i] = 'Alk'\n",
    "        else:\n",
    "            classifications[i] = 'Unknown'\n",
    "    \n",
    "    return classifications"
   ]
  }
 ],
 "metadata": {
  "kernelspec": {
   "display_name": "Python [conda root]",
   "language": "python",
   "name": "conda-root-py"
  },
  "language_info": {
   "codemirror_mode": {
    "name": "ipython",
    "version": 3
   },
   "file_extension": ".py",
   "mimetype": "text/x-python",
   "name": "python",
   "nbconvert_exporter": "python",
   "pygments_lexer": "ipython3",
   "version": "3.5.2"
  }
 },
 "nbformat": 4,
 "nbformat_minor": 2
}
