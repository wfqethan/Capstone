{
 "cells": [
  {
   "cell_type": "code",
   "execution_count": 1,
   "metadata": {
    "collapsed": true
   },
   "outputs": [],
   "source": [
    "import math\n",
    "\n",
    "import numpy as np\n",
    "import pandas as pd"
   ]
  },
  {
   "cell_type": "code",
   "execution_count": 2,
   "metadata": {
    "collapsed": true
   },
   "outputs": [],
   "source": [
    "def find_maxes(array):\n",
    "    \"\"\"\n",
    "    This function takes in a 3D array of intensity values for pixels in an AFM micrograph and returns the maximum\n",
    "    value for each of the scan types as a vector\n",
    "    \n",
    "    input: numpy ndarray of 3 dimensions containing AFM scan data\n",
    "    output: numpy array of 1 dimension containing the maximum value of each scan type\n",
    "    \"\"\"\n",
    "    x, y, z = array.shape\n",
    "    maxVec = np.empty(z)\n",
    "    \n",
    "    #initialize the maxVec to contain the 1st pixel's values\n",
    "    for h in range(z):\n",
    "        maxVec[h] = array[0, 0, h]\n",
    "    \n",
    "    #look for the maximum value for each scan type\n",
    "    for i in range(z):\n",
    "        for j in range(x):\n",
    "            for k in range(y):\n",
    "                if maxVec[i, j, k] < array[i, j, k]:\n",
    "                    maxVec[i, j, k] = array[i, k, j]\n",
    "                elif maxVec[i, j, k] > array[i, j, k]:\n",
    "                    pass\n",
    "                else:\n",
    "                    pass\n",
    "    \n",
    "    return maxVec"
   ]
  },
  {
   "cell_type": "code",
   "execution_count": 3,
   "metadata": {
    "collapsed": true
   },
   "outputs": [],
   "source": [
    "def euc_dist(maxVec, pixel1, pixel2):\n",
    "    \"\"\"\n",
    "    This function takes in a vector of maximum values for the sample's different data types and two pixels as\n",
    "    vectors of their features and calculates the Euclidean distance. It then normalizes these differences for \n",
    "    each scan type so there isn't uneven weighting for a given feature type. Finally, it returns the adjusted \n",
    "    Euclidean distance.\n",
    "    \n",
    "    This function assumes that only numeric data is in the pixel features.\n",
    "    \n",
    "    inputs: a 1D numpy array containing the maximum values of a given sample's scan types\n",
    "            a 1D numpy array containing the feature values of the pixel being examined\n",
    "            a 1D numpy array containing the feature values of the neighboring pixel\n",
    "    \n",
    "    outputs: a numeric value describing the normalized euclidean distance between the pixel and its neighbor\n",
    "    \"\"\"\n",
    "    dist_sqrd = 0\n",
    "    \n",
    "    #calculate the normalized square of the euclidean distance. \n",
    "    for i in range(len(pixel1 + 1)):\n",
    "        diff = 0\n",
    "        diff = (pixel1[i] - pixel2[i])/maxVec[i]\n",
    "        \n",
    "        dist_sqrd += diff\n",
    "    \n",
    "    dist = math.sqrt(abs(dist_sqrd))\n",
    "    \n",
    "    return dist"
   ]
  },
  {
   "cell_type": "code",
   "execution_count": 4,
   "metadata": {
    "collapsed": true
   },
   "outputs": [],
   "source": [
    "def neighbor_locater(x, y):\n",
    "    \"\"\"\n",
    "    This function takes in the xy location of a pixel in a 3D array of information and locates its neighbors, \n",
    "    returning these locations as a 2D array of 8 different xy coordinates.\n",
    "    \n",
    "    input: x - The row of pixels that contains the pixel in question\n",
    "           y - The column of pixels that contains the pixel in question\n",
    "    \n",
    "    output: neighbor_locations - a 2D array containing the xy location of the 8 nearest neighbors\n",
    "    \"\"\"\n",
    "    \n",
    "    neighbors = np.empty([8, 2])\n",
    "    \n",
    "    neighbors[0, 0] = x - 1\n",
    "    neighbors[0, 1] = y - 1\n",
    "    \n",
    "    neighbors[1, 0] = x - 1\n",
    "    neighbors[1, 1] = y\n",
    "    \n",
    "    neighbors[2, 0] = x - 1\n",
    "    neighbors[2, 1] = y + 1\n",
    "    \n",
    "    neighbors[3, 0] = x\n",
    "    neighbors[3, 1] = y - 1\n",
    "    \n",
    "    neighbors[4, 0] = x\n",
    "    neighbors[4, 1] = y + 1\n",
    "    \n",
    "    neighbors[5, 0] = x + 1\n",
    "    neighbors[5, 1] = y - 1\n",
    "    \n",
    "    neighbors[6, 0] = x + 1\n",
    "    neighbors[6, 1] = y\n",
    "    \n",
    "    neighbors[7, 0] = x + 1\n",
    "    neighbors[7, 1] = y + 1\n",
    "    \n",
    "    return neighbor_locations"
   ]
  },
  {
   "cell_type": "code",
   "execution_count": 5,
   "metadata": {
    "collapsed": true
   },
   "outputs": [],
   "source": [
    "def neighbor_properties(scan, neighbor_locations):\n",
    "    \"\"\"\n",
    "    This function takes in a 3D np.ndarray of AFM data and a 2D np.array of pixel xy locations. These pixels are the\n",
    "    8 neighbors of a given pixel. It returns a 3D np.ndarray of the 8 neighbors' AFM values\n",
    "    \n",
    "    inputs: scan - a 3D np.ndarray with 5 mechanical properties and classifications (1 or more) of an xy array of\n",
    "                    pixels.\n",
    "            neighbor_locations - a 2D np.array of the xy locations of pixels surrounding a given pixel\n",
    "            \n",
    "    outputs: neighbor_props - a 2D np.array of the mechanical properties and classifications of a given pixel's\n",
    "                    8 neighboring pixels\n",
    "    \"\"\"\n",
    "    x, y, z = scan.shape\n",
    "    \n",
    "    neighbor_props = np.empty([8, z])\n",
    "    \n",
    "    for i in range(8):\n",
    "        xx, yy = neighbor_locations[i]\n",
    "        for j in range(z):\n",
    "            neighbor_props[i, j] = scan[xx, yy, j]\n",
    "    \n",
    "    return neighbor_props"
   ]
  },
  {
   "cell_type": "code",
   "execution_count": 7,
   "metadata": {
    "collapsed": false
   },
   "outputs": [
    {
     "ename": "IndentationError",
     "evalue": "expected an indented block (<ipython-input-7-647918ec08d1>, line 41)",
     "output_type": "error",
     "traceback": [
      "\u001b[0;36m  File \u001b[0;32m\"<ipython-input-7-647918ec08d1>\"\u001b[0;36m, line \u001b[0;32m41\u001b[0m\n\u001b[0;31m    return euc_classified_pixel\u001b[0m\n\u001b[0m         ^\u001b[0m\n\u001b[0;31mIndentationError\u001b[0m\u001b[0;31m:\u001b[0m expected an indented block\n"
     ]
    }
   ],
   "source": [
    "def euclidean_classifier_pixel(pixel, neighbor_props, maxVec):\n",
    "    \"\"\"\n",
    "    This function takes in a pixel as a vector of the scan types of a nanomechanical mapping AFM micrograph.\n",
    "    Using a normalized euclidean distance, the similarity of the pixel in question with its neighboring pixels\n",
    "    is factored into its own classification.\n",
    "    \n",
    "    inputs: pixel - a 1D np.array containing its mechanical properties (0-4) and its own classification (5) and any\n",
    "                    previous classifications (6+)\n",
    "            neighbors - a 2D np.array containing the mechanical properties of the 8 neighbors of the pixel in question\n",
    "            maxVec - a 1D np.array containing the maximum values for each scan type within the whole scan\n",
    "    \n",
    "    outputs: euc_classified_pixel - a 1D np.array containing the same 6 previous properties, the old classification, \n",
    "                plus this new classification\n",
    "    \"\"\"\n",
    "    \n",
    "    neighbor_distances = np.empty([8, 6])\n",
    "    \n",
    "    \n",
    "    \n",
    "    \n",
    "    for i in range(8):\n",
    "        for j in range(5):\n",
    "            neighbor_distances[i, j] = euc_dist(maxVec, pixel, neighbor_props[i, j])\n",
    "    \n",
    "    similar_neighbor_classifications = 0 \n",
    "    \n",
    "    for i in range(8):\n",
    "        total_distance = 0\n",
    "        \n",
    "        for j in range(5):\n",
    "            total_distance += neighbor_distances[i, j]\n",
    "        \n",
    "        if (total_distance/5) <= 0.3:       #assume that there can be an overall 30% fluctuation pixel-to-pixel\n",
    "            similar_neighbor_classifications += 1\n",
    "            neighbor_distances[i, 5] = 1    #flag the similar pixels for later\n",
    "        else:\n",
    "            neighbor_distances[i, 5] = 0\n",
    "            \n",
    "    if similar_neighbor_classifications >=3: #if at least 3 neighbors are similar, the pixel is not abberant\n",
    "        pass\n",
    "    else: #if the pixel is abberant, it is replaced with the average of its neighbors and then classified\n",
    "        \n",
    "        \n",
    "        \n",
    "    return euc_classified_pixel"
   ]
  },
  {
   "cell_type": "code",
   "execution_count": null,
   "metadata": {
    "collapsed": true
   },
   "outputs": [],
   "source": [
    "def euclidean_classifier_scan(sampleName):\n",
    "    \"\"\"\n",
    "    This function takes in the name of the sample, retrieves the file, and then calls other functions to complete a\n",
    "    classification of each pixel in the scan that incorporates its 8 nearest neighbors' euclidean distance. The edge\n",
    "    pixels are excluded from classification, but included as neighbors, for increased accuracy.\n",
    "    \n",
    "    inputs: sampleName - a string of the sample's name, excluding the filetype extension. It is assumed that all files\n",
    "                            are .txt filetype\n",
    "    outputs: euc_classified_scan - a 3D np.ndarray that contains the aggregated AFM scans, any previous\n",
    "                            classifications, and the euclidean classification.\n",
    "                    *also writes a 2D .txt file containing all of the above information\n",
    "    \"\"\"\n",
    "    \n",
    "    scan = np.loadtxt('../Data/AFM/AggregatedData/%s.txt'% (sampleName))\n",
    "    \n",
    "    x2, z = scan.shape\n",
    "    x = y = int(math.sqrt(x2))\n",
    "    scan = scan.reshape(x, y, z)\n",
    "    \n",
    "    euc_classified_scan = np.empty(x, y)\n",
    "    \n",
    "    maxVec = find_maxes(scan)\n",
    "    \n",
    "    for i in range(1, x-1):\n",
    "        for j in range(1, y-1):\n",
    "            neighbors = neighbor_locater(i, j)\n",
    "            neighbor_props = neighbor_properties(scan, neighbors)\n",
    "            \n",
    "            euc_classified_scan[i][j] = euclidean_classifier_pixel(scan[i][j], neighbor_props, maxVec)\n",
    "    \n",
    "    scan_and_classif = np.dstack((scan, euc_classified_scan))\n",
    "    \n",
    "    scan_and_classif.reshape(x2, z+1)\n",
    "    \n",
    "    np.savetxt('../Data/AFM/AggregatedData/%s.txt'%(sampleName), two_dim_aggr)\n",
    "    \n",
    "    return euc_classified_scan"
   ]
  },
  {
   "cell_type": "code",
   "execution_count": null,
   "metadata": {
    "collapsed": true
   },
   "outputs": [],
   "source": []
  },
  {
   "cell_type": "markdown",
   "metadata": {},
   "source": [
    "## Beyond this point are the remaining parts of the knn classifier that I created for the SEDS Homework and haven't used above"
   ]
  },
  {
   "cell_type": "code",
   "execution_count": null,
   "metadata": {
    "collapsed": true
   },
   "outputs": [],
   "source": [
    "def neighbor_ident(database, inputdata):\n",
    "    \"\"\"Takes in a dataframe and locates each entry's k nearest neighbors in the archived database\"\"\"\n",
    "    \n",
    "    dist_matrix = pd.DataFrame() #initialize empty dataframe to hold the distance information\n",
    "    knns = pd.DataFrame() #initialize empty dataframe to hold the sorted nearest neighbors\n",
    "    \n",
    "    for index1, row1 in inputdata.iterrows(): #calculate euclidean distance and save it\n",
    "        for index2, row2 in database.iterrows():\n",
    "            dist_matrix.loc[index1, index2] = knn.euc_dist(row1, row2)\n",
    "        \n",
    "        knn_index1 = dist_matrix.loc[index1].sort_values() #sort the euclidean distances \n",
    "        sorted_neighbors = list(knn_index1.index) #the indexes refer to the neighbors, save these not their dist.\n",
    "        knns[index1] = sorted_neighbors\n",
    "\n",
    "    return knns"
   ]
  },
  {
   "cell_type": "code",
   "execution_count": null,
   "metadata": {
    "collapsed": true
   },
   "outputs": [],
   "source": [
    "def class_prediction(inputdata, database, k):\n",
    "    \"\"\"Takes in a test matrix, the training matrix, and user choice of k\n",
    "    then makes a class prediction and returns a series of these predictions\"\"\"\n",
    "    \n",
    "    k_neighbors = pd.DataFrame()\n",
    "    \n",
    "    for i in range(k):\n",
    "        k_neighbors = k_neighbors.append(knn.neighbor_ident(database, inputdata).loc[i])\n",
    "    \n",
    "    levels, labels = pd.factorize(database.Type) #Turns string type class titles and makes unique integers out of them\n",
    "    y = levels #index of the unique class integers\n",
    "\n",
    "    predictions = pd.Series(len(inputdata))\n",
    "    \n",
    "    for i in range(len(inputdata)): #Determine class of each of the k nearest neighbors\n",
    "        type1 = 0\n",
    "        type2 = 0\n",
    "        type3 = 0\n",
    "        \n",
    "        for j in range(k):\n",
    "            if y[k_neighbors[i][j]] == y[0]:\n",
    "                type1 += 1\n",
    "            elif y[k_neighbors[i][j]] == y[5]:\n",
    "                type2 += 1\n",
    "            elif y[k_neighbors[i][j]] == y[7]:\n",
    "                type3 += 1\n",
    "            else:\n",
    "                pass\n",
    "\n",
    "        type_count = {y[0]:type1, y[5]:type2, y[7]:type3} # Classify the testing point based on the majority type\n",
    "        predictions[i] = max(type_count, key=type_count.get)  # around it\n",
    "\n",
    "    return predictions"
   ]
  },
  {
   "cell_type": "code",
   "execution_count": null,
   "metadata": {
    "collapsed": true
   },
   "outputs": [],
   "source": [
    "def accuracy_check(k, inputdata):\n",
    "    \"\"\"Takes in a k value and testing dataframe. Compares the predicted types of the testing data\n",
    "        versus their actual types. Returns the number of correct guesses\"\"\"\n",
    "    \n",
    "    number_correct = 0\n",
    "    inputdata_classes = pd.Series(len(inputdata))\n",
    "    \n",
    "    for i in range(len(inputdata)): # Makes a series of the actual class types\n",
    "        if inputdata.loc[i][3] == 'PT':\n",
    "            inputdata_classes[i] = 0\n",
    "        elif inputdata.loc[i][3] == 'TM':\n",
    "            inputdata_classes[i] = 1\n",
    "        elif inputdata.loc[i][3] == 'Alk':\n",
    "            inputdata_classes[i] = 2\n",
    "        else:\n",
    "            pass\n",
    "    \n",
    "    for i in range(len(inputdata)): # Counts the number of predictions that are correct for a given k\n",
    "        if knn.class_prediction(inputdata, database, k)[i] == inputdata_classes[i]:\n",
    "            number_correct += 1\n",
    "        else:\n",
    "            pass\n",
    "        \n",
    "    return number_correct"
   ]
  },
  {
   "cell_type": "code",
   "execution_count": null,
   "metadata": {
    "collapsed": true
   },
   "outputs": [],
   "source": [
    "def k_choice(database, inputdata):\n",
    "    \"\"\"Takes in training data and testing data, then returns a dictionary\n",
    "        of possible k values and their number of correct predictions\"\"\"\n",
    "    \n",
    "    possible_k = {}\n",
    "    \n",
    "    for i in range (1, len(database)+1):\n",
    "        possible_k[i] = (knn.accuracy_check(i, inputdata)/len(inputdata))*100\n",
    "        \n",
    "    return"
   ]
  },
  {
   "cell_type": "code",
   "execution_count": null,
   "metadata": {
    "collapsed": true
   },
   "outputs": [],
   "source": [
    "def knn_interface(database, inputdata, k):\n",
    "    \"\"\"A function to handle user input and interface with the kNN functions.\"\"\"\n",
    "    \n",
    "    classifications = pd.Series(len(inputdata))\n",
    "    predictions = pd.Series(len(inputdata))\n",
    "    \n",
    "    for i in range(len(inputdata)):\n",
    "        predictions[i] = knn.class_prediction(inputdata, database, k)[i]\n",
    "        \n",
    "    for i in range(len(inputdata)):\n",
    "        if predictions[i] == 0:\n",
    "            classifications[i] = 'PT'\n",
    "        elif predictions[i]== 1:\n",
    "            classifications[i] = 'TM'\n",
    "        elif predictions[i] == 2:\n",
    "            classifications[i] = 'Alk'\n",
    "        else:\n",
    "            classifications[i] = 'Unknown'\n",
    "    \n",
    "    return classifications"
   ]
  }
 ],
 "metadata": {
  "anaconda-cloud": {},
  "kernelspec": {
   "display_name": "Python [conda root]",
   "language": "python",
   "name": "conda-root-py"
  },
  "language_info": {
   "codemirror_mode": {
    "name": "ipython",
    "version": 3
   },
   "file_extension": ".py",
   "mimetype": "text/x-python",
   "name": "python",
   "nbconvert_exporter": "python",
   "pygments_lexer": "ipython3",
   "version": "3.5.2"
  }
 },
 "nbformat": 4,
 "nbformat_minor": 2
}
