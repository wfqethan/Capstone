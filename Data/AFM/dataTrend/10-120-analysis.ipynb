{
 "cells": [
  {
   "cell_type": "code",
   "execution_count": 1,
   "metadata": {
    "collapsed": true
   },
   "outputs": [],
   "source": [
    "# Read in 10-120 txt file from TXT folder; run graphical analysis of the data to visualize\n",
    "# the trend"
   ]
  },
  {
   "cell_type": "code",
   "execution_count": 2,
   "metadata": {
    "collapsed": true
   },
   "outputs": [],
   "source": [
    "import numpy as np\n",
    "import matplotlib.pyplot as plt\n",
    "import pandas as pd "
   ]
  },
  {
   "cell_type": "code",
   "execution_count": 3,
   "metadata": {
    "collapsed": false
   },
   "outputs": [
    {
     "name": "stdout",
     "output_type": "stream",
     "text": [
      "              0\n",
      "0       0.42187\n",
      "1       0.43749\n",
      "2       0.42187\n",
      "3       0.42187\n",
      "4       0.42187\n",
      "5       0.43749\n",
      "6       0.42187\n",
      "7       0.40624\n",
      "8       0.43749\n",
      "9       0.42187\n",
      "10      0.43749\n",
      "11      0.42187\n",
      "12      0.43749\n",
      "13      0.42187\n",
      "14      0.45312\n",
      "15      0.45312\n",
      "16      0.43749\n",
      "17      0.42187\n",
      "18      0.40624\n",
      "19      0.42187\n",
      "20      0.42187\n",
      "21      0.40624\n",
      "22      0.42187\n",
      "23      0.40624\n",
      "24      0.42187\n",
      "25      0.42187\n",
      "26      0.42187\n",
      "27      0.42187\n",
      "28      0.42187\n",
      "29      0.42187\n",
      "...         ...\n",
      "589026  0.40624\n",
      "589027  0.40624\n",
      "589028  0.40624\n",
      "589029  0.40624\n",
      "589030  0.40624\n",
      "589031  0.39062\n",
      "589032  0.40624\n",
      "589033  0.39062\n",
      "589034  0.40624\n",
      "589035  0.43749\n",
      "589036  0.40624\n",
      "589037  0.40624\n",
      "589038  0.42187\n",
      "589039  0.42187\n",
      "589040  0.42187\n",
      "589041  0.40624\n",
      "589042  0.40624\n",
      "589043  0.42187\n",
      "589044  0.40624\n",
      "589045  0.40624\n",
      "589046  0.40624\n",
      "589047  0.42187\n",
      "589048  0.40624\n",
      "589049  0.40624\n",
      "589050  0.39062\n",
      "589051  0.40624\n",
      "589052  0.42187\n",
      "589053  0.42187\n",
      "589054  0.43749\n",
      "589055  0.45312\n",
      "\n",
      "[589056 rows x 1 columns]\n"
     ]
    }
   ],
   "source": [
    "# read the data file as a table of data\n",
    "stif = pd.read_table('/Users/Hanyang/DIRECT_CLASS/Capstone/Data/AFM/TXT/10-120_Stif')\n",
    "# reshape the dataframe for processing\n",
    "stifvalue = stif.values.reshape(589056,1)\n",
    "sample2 = pd.DataFrame(data = stifvalue, index = None)\n",
    "print(sample2)"
   ]
  },
  {
   "cell_type": "code",
   "execution_count": 7,
   "metadata": {
    "collapsed": false
   },
   "outputs": [
    {
     "name": "stdout",
     "output_type": "stream",
     "text": [
      "                   0\n",
      "count  589056.000000\n",
      "mean        0.419508\n",
      "std         0.016079\n",
      "min         0.343740\n",
      "25%         0.406240\n",
      "50%         0.421870\n",
      "75%         0.437490\n",
      "max         0.484370\n"
     ]
    },
    {
     "data": {
      "image/png": "[encoded data removed]",
      "text/plain": [
       "<matplotlib.figure.Figure at 0x112628c50>"
      ]
     },
     "metadata": {},
     "output_type": "display_data"
    }
   ],
   "source": [
    "print(sample2.describe())\n",
    "plt.hist(sample2,bins=500,normed=False)\n",
    "plt.show()"
   ]
  },
  {
   "cell_type": "code",
   "execution_count": 8,
   "metadata": {
    "collapsed": true
   },
   "outputs": [],
   "source": [
    "# read PFE data\n",
    "pfe = pd.read_table('/Users/Hanyang/DIRECT_CLASS/Capstone/Data/AFM/TXT/10-120_PFE')\n",
    "pfevalue = pfe.values.reshape(589056,1)\n",
    "sample3 = pd.DataFrame(data = pfevalue, index = None)"
   ]
  },
  {
   "cell_type": "code",
   "execution_count": 11,
   "metadata": {
    "collapsed": false
   },
   "outputs": [
    {
     "name": "stdout",
     "output_type": "stream",
     "text": [
      "                   0\n",
      "count  589056.000000\n",
      "mean       -0.000001\n",
      "std         0.000886\n",
      "min        -0.004875\n",
      "25%        -0.000375\n",
      "50%         0.000000\n",
      "75%         0.000375\n",
      "max         0.005625\n"
     ]
    },
    {
     "data": {
      "image/png": "[encoded data removed]",
      "text/plain": [
       "<matplotlib.figure.Figure at 0x113768c18>"
      ]
     },
     "metadata": {},
     "output_type": "display_data"
    }
   ],
   "source": [
    "print(sample3.describe())\n",
    "plt.hist(sample3,bins=500,normed=False)\n",
    "plt.show()"
   ]
  },
  {
   "cell_type": "code",
   "execution_count": 12,
   "metadata": {
    "collapsed": true
   },
   "outputs": [],
   "source": [
    "# read def data\n",
    "DEF = pd.read_table('/Users/Hanyang/DIRECT_CLASS/Capstone/Data/AFM/TXT/10-120_Def')\n",
    "defvalue = DEF.values.reshape(589056,1)\n",
    "sample4 = pd.DataFrame(data = defvalue, index = None)"
   ]
  },
  {
   "cell_type": "code",
   "execution_count": 13,
   "metadata": {
    "collapsed": false
   },
   "outputs": [
    {
     "name": "stdout",
     "output_type": "stream",
     "text": [
      "                  0\n",
      "count  5.890560e+05\n",
      "mean   2.337347e-09\n",
      "std    1.380225e-10\n",
      "min    1.686200e-09\n",
      "25%    2.236100e-09\n",
      "50%    2.327700e-09\n",
      "75%    2.428500e-09\n",
      "max    3.125000e-09\n"
     ]
    },
    {
     "data": {
      "image/png": "[encoded data removed]",
      "text/plain": [
       "<matplotlib.figure.Figure at 0x113ead278>"
      ]
     },
     "metadata": {},
     "output_type": "display_data"
    }
   ],
   "source": [
    "print(sample4.describe())\n",
    "plt.hist(sample4,bins=500,normed=False, color='b')\n",
    "plt.show()"
   ]
  },
  {
   "cell_type": "code",
   "execution_count": 15,
   "metadata": {
    "collapsed": true
   },
   "outputs": [],
   "source": [
    "#read adh data\n",
    "adh = pd.read_table('/Users/Hanyang/DIRECT_CLASS/Capstone/Data/AFM/TXT/10-120_Adh')\n",
    "adhvalue = adh.values.reshape(589056,1)\n",
    "sample5 = pd.DataFrame(data = adhvalue, index = None)"
   ]
  },
  {
   "cell_type": "code",
   "execution_count": 16,
   "metadata": {
    "collapsed": false
   },
   "outputs": [
    {
     "name": "stdout",
     "output_type": "stream",
     "text": [
      "                   0\n",
      "count  589056.000000\n",
      "mean        0.033192\n",
      "std         0.001574\n",
      "min         0.028875\n",
      "25%         0.032250\n",
      "50%         0.033000\n",
      "75%         0.034124\n",
      "max         0.046124\n"
     ]
    },
    {
     "data": {
      "image/png": "[encoded data removed]",
      "text/plain": [
       "<matplotlib.figure.Figure at 0x1121e4ac8>"
      ]
     },
     "metadata": {},
     "output_type": "display_data"
    }
   ],
   "source": [
    "print(sample5.describe())\n",
    "plt.hist(sample5,bins=500,normed=False)\n",
    "plt.show()"
   ]
  },
  {
   "cell_type": "code",
   "execution_count": null,
   "metadata": {
    "collapsed": true
   },
   "outputs": [],
   "source": []
  }
 ],
 "metadata": {
  "anaconda-cloud": {},
  "kernelspec": {
   "display_name": "Python [default]",
   "language": "python",
   "name": "python3"
  },
  "language_info": {
   "codemirror_mode": {
    "name": "ipython",
    "version": 3
   },
   "file_extension": ".py",
   "mimetype": "text/x-python",
   "name": "python",
   "nbconvert_exporter": "python",
   "pygments_lexer": "ipython3",
   "version": "3.5.2"
  }
 },
 "nbformat": 4,
 "nbformat_minor": 2
}
