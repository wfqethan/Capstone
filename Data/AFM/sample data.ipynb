{
 "cells": [
  {
   "cell_type": "code",
   "execution_count": 1,
   "metadata": {
    "collapsed": true
   },
   "outputs": [],
   "source": [
    "import numpy as np\n",
    "import matplotlib.pyplot as plt\n",
    "import pandas as pd \n"
   ]
  },
  {
   "cell_type": "code",
   "execution_count": 2,
   "metadata": {
    "collapsed": false
   },
   "outputs": [],
   "source": [
    "zdata = pd.read_table('10-10-Z.txt')"
   ]
  },
  {
   "cell_type": "code",
   "execution_count": 3,
   "metadata": {
    "collapsed": false
   },
   "outputs": [
    {
     "name": "stdout",
     "output_type": "stream",
     "text": [
      "(767, 768)\n"
     ]
    }
   ],
   "source": [
    "print(zdata.shape)"
   ]
  },
  {
   "cell_type": "code",
   "execution_count": 4,
   "metadata": {
    "collapsed": false
   },
   "outputs": [],
   "source": [
    "zvalue = zdata.values.reshape(589056,1)"
   ]
  },
  {
   "cell_type": "code",
   "execution_count": 5,
   "metadata": {
    "collapsed": false
   },
   "outputs": [
    {
     "data": {
      "text/plain": [
       "(589056, 1)"
      ]
     },
     "execution_count": 5,
     "metadata": {},
     "output_type": "execute_result"
    }
   ],
   "source": [
    "zvalue.shape"
   ]
  },
  {
   "cell_type": "code",
   "execution_count": 6,
   "metadata": {
    "collapsed": false
   },
   "outputs": [
    {
     "name": "stdout",
     "output_type": "stream",
     "text": [
      "[[ -2.52900000e-08]\n",
      " [ -2.54290000e-08]\n",
      " [ -2.54990000e-08]\n",
      " ..., \n",
      " [ -3.32110000e-08]\n",
      " [ -3.30020000e-08]\n",
      " [ -3.28630000e-08]]\n"
     ]
    }
   ],
   "source": [
    "print(zvalue)"
   ]
  },
  {
   "cell_type": "code",
   "execution_count": 7,
   "metadata": {
    "collapsed": false
   },
   "outputs": [
    {
     "name": "stdout",
     "output_type": "stream",
     "text": [
      "589056\n",
      "-3.9255e-08\n",
      "-2.1191e-08\n"
     ]
    }
   ],
   "source": [
    "print(zvalue.size)\n",
    "print(zvalue.min())\n",
    "print(zvalue.max())"
   ]
  },
  {
   "cell_type": "code",
   "execution_count": 15,
   "metadata": {
    "collapsed": false
   },
   "outputs": [
    {
     "name": "stdout",
     "output_type": "stream",
     "text": [
      "                   0\n",
      "0      -2.529000e-08\n",
      "1      -2.542900e-08\n",
      "2      -2.549900e-08\n",
      "3      -2.522100e-08\n",
      "4      -2.494300e-08\n",
      "5      -2.487300e-08\n",
      "6      -2.494300e-08\n",
      "7      -2.549900e-08\n",
      "8      -2.563800e-08\n",
      "9      -2.536000e-08\n",
      "10     -2.536000e-08\n",
      "11     -2.536000e-08\n",
      "12     -2.522100e-08\n",
      "13     -2.529000e-08\n",
      "14     -2.529000e-08\n",
      "15     -2.549900e-08\n",
      "16     -2.536000e-08\n",
      "17     -2.542900e-08\n",
      "18     -2.563800e-08\n",
      "19     -2.542900e-08\n",
      "20     -2.536000e-08\n",
      "21     -2.542900e-08\n",
      "22     -2.515100e-08\n",
      "23     -2.487300e-08\n",
      "24     -2.487300e-08\n",
      "25     -2.452600e-08\n",
      "26     -2.404000e-08\n",
      "27     -2.397000e-08\n",
      "28     -2.424800e-08\n",
      "29     -2.431800e-08\n",
      "...              ...\n",
      "589026 -3.362800e-08\n",
      "589027 -3.341900e-08\n",
      "589028 -3.328000e-08\n",
      "589029 -3.335000e-08\n",
      "589030 -3.335000e-08\n",
      "589031 -3.341900e-08\n",
      "589032 -3.362800e-08\n",
      "589033 -3.355800e-08\n",
      "589034 -3.335000e-08\n",
      "589035 -3.341900e-08\n",
      "589036 -3.348900e-08\n",
      "589037 -3.369700e-08\n",
      "589038 -3.369700e-08\n",
      "589039 -3.355800e-08\n",
      "589040 -3.341900e-08\n",
      "589041 -3.341900e-08\n",
      "589042 -3.321100e-08\n",
      "589043 -3.321100e-08\n",
      "589044 -3.335000e-08\n",
      "589045 -3.321100e-08\n",
      "589046 -3.314100e-08\n",
      "589047 -3.300200e-08\n",
      "589048 -3.300200e-08\n",
      "589049 -3.286300e-08\n",
      "589050 -3.286300e-08\n",
      "589051 -3.300200e-08\n",
      "589052 -3.307200e-08\n",
      "589053 -3.321100e-08\n",
      "589054 -3.300200e-08\n",
      "589055 -3.286300e-08\n",
      "\n",
      "[589056 rows x 1 columns]\n"
     ]
    }
   ],
   "source": [
    "sample = pd.DataFrame(data = zvalue, index = None)\n",
    "print(sample)"
   ]
  },
  {
   "cell_type": "code",
   "execution_count": 28,
   "metadata": {
    "collapsed": false
   },
   "outputs": [
    {
     "name": "stdout",
     "output_type": "stream",
     "text": [
      "                  0\n",
      "count  5.890560e+05\n",
      "mean  -3.057781e-08\n",
      "std    4.026021e-09\n",
      "min   -3.925500e-08\n",
      "25%   -3.404500e-08\n",
      "50%   -3.112600e-08\n",
      "75%   -2.702700e-08\n",
      "max   -2.119100e-08\n"
     ]
    },
    {
     "data": {
      "image/png": "[encoded data removed]",
      "text/plain": [
       "<matplotlib.figure.Figure at 0x112657c88>"
      ]
     },
     "metadata": {},
     "output_type": "display_data"
    }
   ],
   "source": [
    "print(sample.describe())\n",
    "plt.hist(sample,bins=50,normed=False)\n",
    "plt.show()"
   ]
  },
  {
   "cell_type": "code",
   "execution_count": 29,
   "metadata": {
    "collapsed": false
   },
   "outputs": [
    {
     "data": {
      "image/png": "[encoded data removed]",
      "text/plain": [
       "<matplotlib.figure.Figure at 0x111eee828>"
      ]
     },
     "metadata": {},
     "output_type": "display_data"
    }
   ],
   "source": [
    "plt.hist(sample,bins=500,normed=False)\n",
    "plt.show()"
   ]
  },
  {
   "cell_type": "code",
   "execution_count": 30,
   "metadata": {
    "collapsed": false
   },
   "outputs": [
    {
     "data": {
      "image/png": "[encoded data removed]",
      "text/plain": [
       "<matplotlib.figure.Figure at 0x11434a668>"
      ]
     },
     "metadata": {},
     "output_type": "display_data"
    }
   ],
   "source": [
    "plt.hist(sample,bins=5000,normed=False)\n",
    "plt.show()"
   ]
  },
  {
   "cell_type": "code",
   "execution_count": 2,
   "metadata": {
    "collapsed": true
   },
   "outputs": [],
   "source": [
    "# read stif data\n",
    "stif = pd.read_table('10-10_Stif.txt')"
   ]
  },
  {
   "cell_type": "code",
   "execution_count": 3,
   "metadata": {
    "collapsed": false
   },
   "outputs": [
    {
     "name": "stdout",
     "output_type": "stream",
     "text": [
      "(767, 768)\n"
     ]
    }
   ],
   "source": [
    "print(stif.shape)"
   ]
  },
  {
   "cell_type": "code",
   "execution_count": 4,
   "metadata": {
    "collapsed": true
   },
   "outputs": [],
   "source": [
    "stifvalue = stif.values.reshape(589056,1)"
   ]
  },
  {
   "cell_type": "code",
   "execution_count": 7,
   "metadata": {
    "collapsed": false
   },
   "outputs": [
    {
     "name": "stdout",
     "output_type": "stream",
     "text": [
      "              0\n",
      "0       0.54687\n",
      "1       0.54687\n",
      "2       0.51562\n",
      "3       0.65624\n",
      "4       0.64061\n",
      "5       0.64061\n",
      "6       0.49999\n",
      "7       0.54687\n",
      "8       0.56249\n",
      "9       0.51562\n",
      "10      0.51562\n",
      "11      0.57812\n",
      "12      0.56249\n",
      "13      0.59374\n",
      "14      0.54687\n",
      "15      0.53124\n",
      "16      0.56249\n",
      "17      0.56249\n",
      "18      0.51562\n",
      "19      0.53124\n",
      "20      0.53124\n",
      "21      0.51562\n",
      "22      0.56249\n",
      "23      0.59374\n",
      "24      0.57812\n",
      "25      0.65624\n",
      "26      0.70311\n",
      "27      0.59374\n",
      "28      0.57812\n",
      "29      0.53124\n",
      "...         ...\n",
      "589026  0.53124\n",
      "589027  0.56249\n",
      "589028  0.51562\n",
      "589029  0.53124\n",
      "589030  0.54687\n",
      "589031  0.53124\n",
      "589032  0.53124\n",
      "589033  0.57812\n",
      "589034  0.59374\n",
      "589035  0.62499\n",
      "589036  0.57812\n",
      "589037  0.56249\n",
      "589038  0.60937\n",
      "589039  0.60937\n",
      "589040  0.57812\n",
      "589041  0.57812\n",
      "589042  0.54687\n",
      "589043  0.54687\n",
      "589044  0.60937\n",
      "589045  0.57812\n",
      "589046  0.54687\n",
      "589047  0.54687\n",
      "589048  0.46874\n",
      "589049  0.59374\n",
      "589050  0.49999\n",
      "589051  0.60937\n",
      "589052  0.53124\n",
      "589053  0.54687\n",
      "589054  0.54687\n",
      "589055  0.56249\n",
      "\n",
      "[589056 rows x 1 columns]\n"
     ]
    }
   ],
   "source": [
    "sample2 = pd.DataFrame(data = stifvalue, index = None)\n",
    "print(sample2)"
   ]
  },
  {
   "cell_type": "code",
   "execution_count": 17,
   "metadata": {
    "collapsed": false
   },
   "outputs": [
    {
     "name": "stdout",
     "output_type": "stream",
     "text": [
      "                   0\n",
      "count  589056.000000\n",
      "mean        0.585973\n",
      "std         0.057046\n",
      "min         0.359370\n",
      "25%         0.546870\n",
      "50%         0.578120\n",
      "75%         0.624990\n",
      "max         0.921860\n"
     ]
    },
    {
     "data": {
      "image/png": "[encoded data removed]",
      "text/plain": [
       "<matplotlib.figure.Figure at 0x1044ba358>"
      ]
     },
     "metadata": {},
     "output_type": "display_data"
    }
   ],
   "source": [
    "print(sample2.describe())\n",
    "plt.hist(sample2,bins=500,normed=False)\n",
    "plt.show()"
   ]
  },
  {
   "cell_type": "code",
   "execution_count": 10,
   "metadata": {
    "collapsed": true
   },
   "outputs": [],
   "source": [
    "# read PFE data\n",
    "pfe = pd.read_table('10-10_PFE.txt')\n",
    "pfevalue = pfe.values.reshape(589056,1)\n",
    "sample3 = pd.DataFrame(data = pfevalue, index = None)"
   ]
  },
  {
   "cell_type": "code",
   "execution_count": 11,
   "metadata": {
    "collapsed": false
   },
   "outputs": [
    {
     "name": "stdout",
     "output_type": "stream",
     "text": [
      "                   0\n",
      "count  589056.000000\n",
      "mean       -0.000135\n",
      "std         0.013147\n",
      "min        -0.063374\n",
      "25%        -0.009000\n",
      "50%         0.000000\n",
      "75%         0.008625\n",
      "max         0.058874\n"
     ]
    },
    {
     "data": {
      "image/png": "[encoded data removed]",
      "text/plain": [
       "<matplotlib.figure.Figure at 0x10e644470>"
      ]
     },
     "metadata": {},
     "output_type": "display_data"
    }
   ],
   "source": [
    "print(sample3.describe())\n",
    "plt.hist(sample3,bins=500,normed=False)\n",
    "plt.show()"
   ]
  },
  {
   "cell_type": "code",
   "execution_count": 12,
   "metadata": {
    "collapsed": true
   },
   "outputs": [],
   "source": [
    "# read def data\n",
    "DEF = pd.read_table('10-10_Def.txt')\n",
    "defvalue = DEF.values.reshape(589056,1)\n",
    "sample4 = pd.DataFrame(data = defvalue, index = None)"
   ]
  },
  {
   "cell_type": "code",
   "execution_count": 13,
   "metadata": {
    "collapsed": false
   },
   "outputs": [
    {
     "name": "stdout",
     "output_type": "stream",
     "text": [
      "                  0\n",
      "count  5.890560e+05\n",
      "mean   6.746595e-09\n",
      "std    6.649556e-10\n",
      "min    3.959000e-09\n",
      "25%    6.295900e-09\n",
      "50%    6.735800e-09\n",
      "75%    7.184800e-09\n",
      "max    9.970700e-09\n"
     ]
    },
    {
     "data": {
      "image/png": "[encoded data removed]",
      "text/plain": [
       "<matplotlib.figure.Figure at 0x10c3dd3c8>"
      ]
     },
     "metadata": {},
     "output_type": "display_data"
    }
   ],
   "source": [
    "print(sample4.describe())\n",
    "plt.hist(sample4,bins=500,normed=False)\n",
    "plt.show()"
   ]
  },
  {
   "cell_type": "code",
   "execution_count": 14,
   "metadata": {
    "collapsed": true
   },
   "outputs": [],
   "source": [
    "#read adh data\n",
    "adh = pd.read_table('10-10_Adh.txt')\n",
    "adhvalue = adh.values.reshape(589056,1)\n",
    "sample5 = pd.DataFrame(data = adhvalue, index = None)"
   ]
  },
  {
   "cell_type": "code",
   "execution_count": 16,
   "metadata": {
    "collapsed": false
   },
   "outputs": [
    {
     "name": "stdout",
     "output_type": "stream",
     "text": [
      "                   0\n",
      "count  589056.000000\n",
      "mean        0.072579\n",
      "std         0.003746\n",
      "min         0.052124\n",
      "25%         0.070124\n",
      "50%         0.072374\n",
      "75%         0.074999\n",
      "max         0.095624\n"
     ]
    },
    {
     "data": {
      "image/png": "[encoded data removed]",
      "text/plain": [
       "<matplotlib.figure.Figure at 0x11155ed30>"
      ]
     },
     "metadata": {},
     "output_type": "display_data"
    }
   ],
   "source": [
    "print(sample5.describe())\n",
    "plt.hist(sample5,bins=500,normed=False)\n",
    "plt.show()"
   ]
  },
  {
   "cell_type": "code",
   "execution_count": null,
   "metadata": {
    "collapsed": true
   },
   "outputs": [],
   "source": []
  }
 ],
 "metadata": {
  "anaconda-cloud": {},
  "kernelspec": {
   "display_name": "Python [default]",
   "language": "python",
   "name": "python3"
  },
  "language_info": {
   "codemirror_mode": {
    "name": "ipython",
    "version": 3
   },
   "file_extension": ".py",
   "mimetype": "text/x-python",
   "name": "python",
   "nbconvert_exporter": "python",
   "pygments_lexer": "ipython3",
   "version": "3.5.2"
  }
 },
 "nbformat": 4,
 "nbformat_minor": 2
}
